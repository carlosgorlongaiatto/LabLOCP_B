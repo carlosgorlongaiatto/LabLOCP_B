{
 "cells": [
  {
   "cell_type": "markdown",
   "metadata": {
    "cell_id": "427a25f6-d21b-4136-a9af-59706f8798b5",
    "deepnote_cell_height": 81.83332824707031,
    "deepnote_cell_type": "markdown",
    "tags": []
   },
   "source": [
    "# CNN"
   ]
  },
  {
   "cell_type": "code",
   "execution_count": 1,
   "metadata": {
    "cell_id": "00001-699675fe-b0da-4915-b989-1de0cacb07a4",
    "deepnote_cell_height": 304.08331298828125,
    "deepnote_cell_type": "code",
    "deepnote_to_be_reexecuted": false,
    "execution_millis": 10062,
    "execution_start": 1648659174136,
    "source_hash": "f005c0e",
    "tags": []
   },
   "outputs": [
    {
     "name": "stderr",
     "output_type": "stream",
     "text": [
      "2022-04-01 18:21:03.529851: W tensorflow/stream_executor/platform/default/dso_loader.cc:64] Could not load dynamic library 'libcudart.so.11.0'; dlerror: libcudart.so.11.0: cannot open shared object file: No such file or directory\n",
      "2022-04-01 18:21:03.529883: I tensorflow/stream_executor/cuda/cudart_stub.cc:29] Ignore above cudart dlerror if you do not have a GPU set up on your machine.\n"
     ]
    }
   ],
   "source": [
    "import numpy as np\n",
    "import matplotlib.pyplot as plt\n",
    "from sklearn.metrics import accuracy_score\n",
    "plt.rcParams['font.size'] = 14\n",
    "\n",
    "import keras\n",
    "import tensorflow as tf\n",
    "from keras.models import Sequential\n",
    "from keras.layers import Dense, Dropout, Flatten\n",
    "from keras.layers import Conv1D, MaxPooling1D, AveragePooling1D"
   ]
  },
  {
   "cell_type": "markdown",
   "metadata": {
    "cell_id": "00002-0db3b828-b4e9-49a9-9cdf-7788b1b677b3",
    "deepnote_cell_height": 61.83332824707031,
    "deepnote_cell_type": "markdown",
    "tags": []
   },
   "source": [
    "### Load data"
   ]
  },
  {
   "cell_type": "code",
   "execution_count": 2,
   "metadata": {
    "cell_id": "00003-081c6c70-f79c-4105-948e-386c52116f45",
    "deepnote_cell_height": 1038.3333740234375,
    "deepnote_cell_type": "code",
    "deepnote_output_heights": [
     292
    ],
    "deepnote_to_be_reexecuted": false,
    "execution_millis": 2150,
    "execution_start": 1648652143805,
    "source_hash": "da02a9a2",
    "tags": []
   },
   "outputs": [
    {
     "data": {
      "image/png": "[encoded data removed]",
      "text/plain": [
       "<Figure size 432x288 with 1 Axes>"
      ]
     },
     "metadata": {
      "needs_background": "light"
     },
     "output_type": "display_data"
    },
    {
     "name": "stdout",
     "output_type": "stream",
     "text": [
      "data:  20000\n",
      "[[1. 0. 0.]\n",
      " [0. 1. 0.]\n",
      " [0. 0. 1.]\n",
      " [1. 0. 0.]\n",
      " [0. 1. 0.]\n",
      " [0. 0. 1.]]\n"
     ]
    }
   ],
   "source": [
    "str0 = f'ts_L60_Z12_A500_DX50_bias5_N20000.dat'\n",
    "fnamex = 'DATA/x_' + str0\n",
    "fnamey = 'DATA/y_' + str0\n",
    "\n",
    "x = np.loadtxt(fnamex, delimiter=' ', dtype=float)\n",
    "N, L = len(x), len(x[0])\n",
    "\n",
    "# function to plot samples\n",
    "def Show_data(x, N, s='data'):\n",
    "    # size of each sample of the timeseries\n",
    "    L = 60\n",
    "    # plot the first N samples\n",
    "    for i in range(N):\n",
    "        plt.plot(np.arange(i*L,(i+1)*L),x[i])   \n",
    "    plt.xlabel('time')\n",
    "    plt.title(s)\n",
    "    plt.show()\n",
    "\n",
    "Show_data(x, 6, 'original data')\n",
    "print('data: ', N)\n",
    "\n",
    "# build multi-class vector labels\n",
    "categ = np.loadtxt(fnamey, dtype=int)\n",
    "n_class = 3\n",
    "y = np.zeros((N,n_class))\n",
    "for i in range(N):\n",
    "    y[i,categ[i]] = 1\n",
    "print(y[:6])"
   ]
  },
  {
   "cell_type": "markdown",
   "metadata": {
    "cell_id": "00004-e2073458-681a-40bd-a3d6-3e3d72069feb",
    "deepnote_cell_height": 61.83332824707031,
    "deepnote_cell_type": "markdown",
    "tags": []
   },
   "source": [
    "### Define datasets"
   ]
  },
  {
   "cell_type": "code",
   "execution_count": 3,
   "metadata": {
    "cell_id": "00005-5a29e961-a2a9-41b5-8f0d-8e3e65effec7",
    "deepnote_cell_height": 309.41668701171875,
    "deepnote_cell_type": "code",
    "deepnote_to_be_reexecuted": false,
    "execution_millis": 8,
    "execution_start": 1648652332856,
    "source_hash": "9e91a03d",
    "tags": []
   },
   "outputs": [
    {
     "name": "stdout",
     "output_type": "stream",
     "text": [
      "total number of samples: 19700\n"
     ]
    }
   ],
   "source": [
    "# list of the sizes (number of samples) of the datasets\n",
    "N_samples = np.array([20, 50, 100, 150, 200, 250, 300, 400, 500])\n",
    "\n",
    "# for each size, select \"N_datasets\" indipendent datasets\n",
    "# in order to calculate the standard deviation of the accuracy of the model for each size\n",
    "N_datasets = 10\n",
    "\n",
    "# each dataset for each size is divided into training and test set\n",
    "perc_train = 0.8\n",
    "\n",
    "# total number of samples needed\n",
    "print('total number of samples:', np.sum(N_samples*N_datasets))"
   ]
  },
  {
   "cell_type": "markdown",
   "metadata": {
    "cell_id": "00006-179cf374-84f8-4477-a4e9-5671d9dad1b4",
    "deepnote_cell_height": 61.83332824707031,
    "deepnote_cell_type": "markdown",
    "tags": []
   },
   "source": [
    "### Define the model with Keras"
   ]
  },
  {
   "cell_type": "code",
   "execution_count": 4,
   "metadata": {
    "cell_id": "00007-2f46e7a7-8227-45d1-a0d4-36c967df671d",
    "deepnote_cell_height": 584.8333129882812,
    "deepnote_cell_type": "code",
    "deepnote_to_be_reexecuted": false,
    "execution_millis": 36,
    "execution_start": 1648652335124,
    "source_hash": "2014e0fd",
    "tags": []
   },
   "outputs": [],
   "source": [
    "def create_model():\n",
    "\n",
    "    # initializer\n",
    "    ini = tf.keras.initializers.RandomNormal(mean=0.0, stddev=0.05, seed=None)\n",
    "\n",
    "    # regularizer\n",
    "    reg = tf.keras.regularizers.l2(0.1)\n",
    "\n",
    "    model = Sequential()\n",
    "    # convolutional layer\n",
    "    model.add(Conv1D(filters=5, kernel_size=11,\n",
    "                    kernel_initializer=ini, kernel_regularizer=reg,\n",
    "                    activation='relu', input_shape=(L,1)))\n",
    "    # pooling layer                     \n",
    "    model.add(AveragePooling1D(5))\n",
    "    # convolutional layer\n",
    "    model.add(Conv1D(filters=5, kernel_size=7,\n",
    "                    activation='relu'))\n",
    "    # fully connected neural network\n",
    "    model.add(Flatten())\n",
    "    model.add(Dense(12, activation='relu'))\n",
    "    model.add(Dropout(0.2))        \n",
    "    model.add(Dense(n_class, activation='softmax'))\n",
    "\n",
    "    # compile the model: categorical_crossentropy, 3 output nodes\n",
    "    model.compile(loss=keras.losses.categorical_crossentropy,\n",
    "                  optimizer='Adam', metrics=['accuracy'])\n",
    "    \n",
    "    return model"
   ]
  },
  {
   "cell_type": "markdown",
   "metadata": {
    "cell_id": "00008-7530273c-9c43-4878-b9cb-299b532ec59c",
    "deepnote_cell_height": 61.83332824707031,
    "deepnote_cell_type": "markdown",
    "tags": []
   },
   "source": [
    "### Training, test and accuracy"
   ]
  },
  {
   "cell_type": "code",
   "execution_count": 5,
   "metadata": {
    "cell_id": "00009-ed148b20-aca7-4a1a-befa-09f6b7a30a31",
    "deepnote_cell_height": 1614.6666259765625,
    "deepnote_cell_type": "code",
    "deepnote_to_be_reexecuted": false,
    "execution_millis": 60435,
    "execution_start": 1648653154194,
    "source_hash": "5dd2dbb0",
    "tags": []
   },
   "outputs": [
    {
     "name": "stderr",
     "output_type": "stream",
     "text": [
      "2022-04-01 18:21:06.740017: W tensorflow/stream_executor/platform/default/dso_loader.cc:64] Could not load dynamic library 'libcuda.so.1'; dlerror: libcuda.so.1: cannot open shared object file: No such file or directory\n",
      "2022-04-01 18:21:06.740055: W tensorflow/stream_executor/cuda/cuda_driver.cc:269] failed call to cuInit: UNKNOWN ERROR (303)\n",
      "2022-04-01 18:21:06.740087: I tensorflow/stream_executor/cuda/cuda_diagnostics.cc:156] kernel driver does not appear to be running on this host (eugenio-HP-Pavilion-Laptop-15-eg0xxx): /proc/driver/nvidia/version does not exist\n",
      "2022-04-01 18:21:06.740772: I tensorflow/core/platform/cpu_feature_guard.cc:151] This TensorFlow binary is optimized with oneAPI Deep Neural Network Library (oneDNN) to use the following CPU instructions in performance-critical operations:  AVX2 AVX512F FMA\n",
      "To enable them in other operations, rebuild TensorFlow with the appropriate compiler flags.\n"
     ]
    },
    {
     "name": "stdout",
     "output_type": "stream",
     "text": [
      "0 0\n",
      "0 1\n",
      "0 2\n",
      "0 3\n",
      "0 4\n",
      "WARNING:tensorflow:5 out of the last 5 calls to <function Model.make_predict_function.<locals>.predict_function at 0x7f863ed5b940> triggered tf.function retracing. Tracing is expensive and the excessive number of tracings could be due to (1) creating @tf.function repeatedly in a loop, (2) passing tensors with different shapes, (3) passing Python objects instead of tensors. For (1), please define your @tf.function outside of the loop. For (2), @tf.function has experimental_relax_shapes=True option that relaxes argument shapes that can avoid unnecessary retracing. For (3), please refer to https://www.tensorflow.org/guide/function#controlling_retracing and https://www.tensorflow.org/api_docs/python/tf/function for  more details.\n",
      "0 5\n",
      "WARNING:tensorflow:6 out of the last 6 calls to <function Model.make_predict_function.<locals>.predict_function at 0x7f86341d9430> triggered tf.function retracing. Tracing is expensive and the excessive number of tracings could be due to (1) creating @tf.function repeatedly in a loop, (2) passing tensors with different shapes, (3) passing Python objects instead of tensors. For (1), please define your @tf.function outside of the loop. For (2), @tf.function has experimental_relax_shapes=True option that relaxes argument shapes that can avoid unnecessary retracing. For (3), please refer to https://www.tensorflow.org/guide/function#controlling_retracing and https://www.tensorflow.org/api_docs/python/tf/function for  more details.\n",
      "0 6\n",
      "0 7\n",
      "0 8\n",
      "0 9\n",
      "1 0\n",
      "1 1\n",
      "1 2\n",
      "1 3\n",
      "1 4\n",
      "1 5\n",
      "1 6\n",
      "1 7\n",
      "1 8\n",
      "1 9\n",
      "2 0\n",
      "2 1\n",
      "2 2\n",
      "2 3\n",
      "2 4\n",
      "2 5\n",
      "2 6\n",
      "2 7\n",
      "2 8\n",
      "2 9\n",
      "3 0\n",
      "3 1\n",
      "3 2\n",
      "3 3\n",
      "3 4\n",
      "3 5\n",
      "3 6\n",
      "3 7\n",
      "3 8\n",
      "3 9\n",
      "4 0\n",
      "4 1\n",
      "4 2\n",
      "4 3\n",
      "4 4\n",
      "4 5\n",
      "4 6\n",
      "4 7\n",
      "4 8\n",
      "4 9\n",
      "5 0\n",
      "5 1\n",
      "5 2\n",
      "5 3\n",
      "5 4\n",
      "5 5\n",
      "5 6\n",
      "5 7\n",
      "5 8\n",
      "5 9\n",
      "6 0\n",
      "6 1\n",
      "6 2\n",
      "6 3\n",
      "6 4\n",
      "6 5\n",
      "6 6\n",
      "6 7\n",
      "6 8\n",
      "6 9\n",
      "7 0\n",
      "7 1\n",
      "7 2\n",
      "7 3\n",
      "7 4\n",
      "7 5\n",
      "7 6\n",
      "7 7\n",
      "7 8\n",
      "7 9\n",
      "8 0\n",
      "8 1\n",
      "8 2\n",
      "8 3\n",
      "8 4\n",
      "8 5\n",
      "8 6\n",
      "8 7\n",
      "8 8\n",
      "8 9\n"
     ]
    }
   ],
   "source": [
    "# reproducibility\n",
    "np.random.seed(12345)\n",
    "tf.random.set_seed(12345)\n",
    "\n",
    "acc_cnn = np.zeros((len(N_samples),N_datasets))\n",
    "\n",
    "for i in range(0, len(N_samples)):\n",
    "\n",
    "    for j in range(0, N_datasets):\n",
    "\n",
    "        start = np.sum(N_samples[:i]*N_datasets) + N_samples[i]*j\n",
    "        end = start + N_samples[i]\n",
    "\n",
    "        N_train = int(perc_train*N_samples[i])\n",
    "\n",
    "        # training set\n",
    "        x_train = x[start:start+N_train]\n",
    "        y_train = y[start:start+N_train]\n",
    "\n",
    "        # test set\n",
    "        x_test = x[start+N_train:end]\n",
    "        y_test = y[start+N_train:end]\n",
    "\n",
    "        # rescale\n",
    "\n",
    "        # remove average value of each sample from its values\n",
    "        xm_train = x_train.mean(axis=1)\n",
    "        for k in range(len(x_train)):\n",
    "            x_train[k] = x_train[k] - xm_train[k]\n",
    "        xm_test = x_test.mean(axis=1)\n",
    "        for k in range(len(x_test)):\n",
    "            x_test[k] = x_test[k] - xm_test[k]\n",
    "\n",
    "        # rescale all the samples with the train set variance \n",
    "        xv = x_train.var()\n",
    "        x_train = x_train/np.sqrt(xv)\n",
    "        x_test = x_test/np.sqrt(xv)\n",
    "\n",
    "        # create the model\n",
    "        model = create_model()\n",
    "\n",
    "        # fit the model\n",
    "        fit = model.fit(x_train, y_train,\n",
    "                    batch_size=int(N_train/8), epochs=32,\n",
    "                    verbose=0, shuffle=True)\n",
    "        print(i,j)\n",
    "        \n",
    "        # true labels\n",
    "        max_y_test = np.argmax(y_test, axis=1)\n",
    "\n",
    "        # predict labels on test set: take the class with the highest probability\n",
    "        y_pred = model.predict(x_test)\n",
    "        max_y_pred = np.argmax(y_pred, axis=1)\n",
    "\n",
    "        # compute accuracy\n",
    "        acc_cnn[i,j] = accuracy_score(max_y_test, max_y_pred)\n",
    "\n",
    "# compute mean and standard deviation of accuracy for each dataset size       \n",
    "acc_cnn_mean = acc_cnn.mean(axis=1)\n",
    "acc_cnn_stddev = np.sqrt(acc_cnn.var(axis=1))"
   ]
  },
  {
   "cell_type": "code",
   "execution_count": 6,
   "metadata": {
    "cell_id": "66aa271d3e6741198934be151431a397",
    "deepnote_cell_height": 101.83332824707031,
    "deepnote_cell_type": "code",
    "tags": []
   },
   "outputs": [
    {
     "name": "stdout",
     "output_type": "stream",
     "text": [
      "accuracy matrix:\n",
      " [[0.     0.25   0.25   0.     0.25   0.25   0.5    0.     0.25   0.75  ]\n",
      " [0.4    0.1    0.4    0.5    0.2    0.3    0.4    0.4    0.5    0.4   ]\n",
      " [0.4    0.35   0.55   0.45   0.6    0.5    0.5    0.65   0.35   0.35  ]\n",
      " [0.5667 0.7    0.5333 0.3    0.5667 0.6667 0.4667 0.6333 0.4667 0.5667]\n",
      " [0.65   0.575  0.6    0.7    0.625  0.775  0.425  0.6    0.75   0.625 ]\n",
      " [0.66   0.66   0.56   0.64   0.66   0.78   0.54   0.56   0.68   0.54  ]\n",
      " [0.7    0.6    0.7167 0.55   0.4833 0.4833 0.6167 0.5    0.6667 0.6167]\n",
      " [0.675  0.65   0.825  0.6375 0.75   0.625  0.6875 0.5375 0.7    0.6625]\n",
      " [0.72   0.68   0.63   0.72   0.74   0.56   0.78   0.73   0.72   0.59  ]]\n",
      "means:\n",
      " [0.25   0.36   0.47   0.5467 0.6325 0.628  0.5933 0.675  0.687 ]\n",
      "standard deviations:\n",
      " [0.2236 0.12   0.103  0.1097 0.0936 0.0733 0.0824 0.0725 0.0674]\n"
     ]
    }
   ],
   "source": [
    "print('accuracy matrix:\\n', np.round(acc_cnn,4))\n",
    "print('means:\\n', np.round(acc_cnn_mean,4))\n",
    "print('standard deviations:\\n', np.round(acc_cnn_stddev,4))"
   ]
  },
  {
   "cell_type": "markdown",
   "metadata": {
    "cell_id": "00010-9ed43c7a-bc27-4dd9-a89c-f4f3b7a6ee7b",
    "deepnote_cell_height": 61.83332824707031,
    "deepnote_cell_type": "markdown",
    "tags": []
   },
   "source": [
    "### Plot mean and standard deviation of accuracy vs dataset size"
   ]
  },
  {
   "cell_type": "code",
   "execution_count": 7,
   "metadata": {
    "cell_id": "00011-529b295f-e018-4f24-babc-4efc01b14154",
    "deepnote_cell_height": 853.6666870117188,
    "deepnote_cell_type": "code",
    "deepnote_output_heights": [
     274,
     272
    ],
    "deepnote_to_be_reexecuted": false,
    "execution_millis": 410,
    "execution_start": 1648653238566,
    "source_hash": "cfaa1c4f",
    "tags": []
   },
   "outputs": [
    {
     "data": {
      "image/png": "[encoded data removed]",
      "text/plain": [
       "<Figure size 432x288 with 1 Axes>"
      ]
     },
     "metadata": {
      "needs_background": "light"
     },
     "output_type": "display_data"
    },
    {
     "data": {
      "image/png": "[encoded data removed]",
      "text/plain": [
       "<Figure size 432x288 with 1 Axes>"
      ]
     },
     "metadata": {
      "needs_background": "light"
     },
     "output_type": "display_data"
    }
   ],
   "source": [
    "plt.plot(N_samples, acc_cnn_mean, '-o')\n",
    "plt.xlabel('dataset size')\n",
    "plt.ylabel('mean')\n",
    "plt.title('accuracy')\n",
    "plt.show()\n",
    "\n",
    "plt.plot(N_samples, acc_cnn_stddev, '-o')\n",
    "plt.xlabel('dataset size')\n",
    "plt.ylabel('standard deviation')\n",
    "plt.title('accuracy')\n",
    "plt.show()"
   ]
  },
  {
   "cell_type": "markdown",
   "metadata": {
    "cell_id": "00012-13ecd234-e67c-4640-9a54-830a1111f161",
    "deepnote_cell_height": 120.23333740234375,
    "deepnote_cell_type": "markdown",
    "tags": []
   },
   "source": [
    "# XGBoost\n",
    "\n",
    "https://tsfresh.readthedocs.io/en/latest/api/tsfresh.feature_extraction.html"
   ]
  },
  {
   "cell_type": "code",
   "execution_count": 8,
   "metadata": {
    "cell_id": "00013-d31064eb-42f0-449d-a95a-3b0dfa68b3e4",
    "deepnote_cell_height": 196.0833282470703,
    "deepnote_cell_type": "code",
    "deepnote_to_be_reexecuted": false,
    "execution_start": 1648633534737,
    "source_hash": "d57c4ad",
    "tags": []
   },
   "outputs": [
    {
     "name": "stderr",
     "output_type": "stream",
     "text": [
      "/home/eugenio/anaconda3/envs/Tf/lib/python3.8/site-packages/xgboost/compat.py:36: FutureWarning: pandas.Int64Index is deprecated and will be removed from pandas in a future version. Use pandas.Index with the appropriate dtype instead.\n",
      "  from pandas import MultiIndex, Int64Index\n"
     ]
    }
   ],
   "source": [
    "import pandas as pd\n",
    "\n",
    "from tsfresh import extract_features\n",
    "from xgboost import XGBClassifier, plot_tree"
   ]
  },
  {
   "cell_type": "markdown",
   "metadata": {
    "cell_id": "00014-68a9feb7-8ed2-43f8-9f7f-726e1fa07a78",
    "deepnote_cell_height": 61.83332824707031,
    "deepnote_cell_type": "markdown"
   },
   "source": [
    "### Load data"
   ]
  },
  {
   "cell_type": "code",
   "execution_count": 9,
   "metadata": {
    "cell_id": "00015-5c0bb08f-e552-404d-a078-2f628d0e0a34",
    "deepnote_cell_height": 688,
    "deepnote_cell_type": "code",
    "deepnote_output_heights": [
     292
    ],
    "deepnote_to_be_reexecuted": false,
    "execution_millis": 1367,
    "execution_start": 1648653368807,
    "scrolled": true,
    "source_hash": "b18fc046",
    "tags": []
   },
   "outputs": [
    {
     "data": {
      "image/png": "[encoded data removed]",
      "text/plain": [
       "<Figure size 432x288 with 1 Axes>"
      ]
     },
     "metadata": {
      "needs_background": "light"
     },
     "output_type": "display_data"
    },
    {
     "name": "stdout",
     "output_type": "stream",
     "text": [
      "data: 20000\n",
      "[0 1 2 0 1 2]\n"
     ]
    }
   ],
   "source": [
    "str0 = 'ts_L60_Z12_A500_DX50_bias5_N20000.dat'\n",
    "fnamex = 'DATA/x_' + str0\n",
    "fnamey = 'DATA/y_' + str0\n",
    "\n",
    "x = np.loadtxt(fnamex, delimiter=\" \",dtype=float)\n",
    "N, L = len(x), len(x[0])\n",
    "\n",
    "Show_data(x, 6, 'original data')\n",
    "print('data:', N)\n",
    "\n",
    "# note: here it does not need to be converted to the 3-bit version, a label remains y[i]=0,1,2\n",
    "y = np.loadtxt(fnamey, dtype=int)\n",
    "n_class = 3\n",
    "print(y[:6])"
   ]
  },
  {
   "cell_type": "markdown",
   "metadata": {
    "cell_id": "00018-86331029-4bb1-4c12-94ee-2399de00cdee",
    "deepnote_cell_height": 61.83332824707031,
    "deepnote_cell_type": "markdown"
   },
   "source": [
    "### tsfresh"
   ]
  },
  {
   "cell_type": "markdown",
   "metadata": {
    "cell_id": "00019-63837781-1f47-4320-acf9-13cbf1af6746",
    "deepnote_cell_height": 169.8333282470703,
    "deepnote_cell_type": "markdown"
   },
   "source": [
    "Input data format: DATAFRAME\n",
    "\n",
    "first column $\\to$ id of the sample \\\n",
    "second column $\\to$  id of the time step \\\n",
    "third column $\\to$ value of the feature of _id_-sample at _id_-step\n",
    "\n",
    "For more: https://tsfresh.readthedocs.io/en/latest/text/data_formats.html"
   ]
  },
  {
   "cell_type": "markdown",
   "metadata": {
    "cell_id": "00020-b833616f-761b-4b3a-87b9-f45d9162d39e",
    "deepnote_cell_height": 61.83332824707031,
    "deepnote_cell_type": "markdown",
    "tags": []
   },
   "source": [
    "### Build dataframe"
   ]
  },
  {
   "cell_type": "code",
   "execution_count": 10,
   "metadata": {
    "cell_id": "00021-7eb8f5a1-c11e-445c-8655-9d85c57f9f4a",
    "deepnote_cell_height": 443.83331298828125,
    "deepnote_cell_type": "code"
   },
   "outputs": [],
   "source": [
    "def get_df(x):\n",
    "    '''Build input dataframe for given data series\n",
    "    Input:\n",
    "    var = array of time series, (#samples,time,1)\n",
    "    Return:\n",
    "    df = dataframe ready for features extraction\n",
    "    '''\n",
    "    \n",
    "    # N=#samples, t=timesteps\n",
    "    N, t = x.shape[0], x.shape[1]\n",
    "    # build id columns\n",
    "    id_col = np.repeat(np.arange(N),t)\n",
    "    # build time columns\n",
    "    time_col = np.tile(np.arange(t),N)\n",
    "    # build var columns\n",
    "    x_col = x.flatten()\n",
    "      \n",
    "    # build dict for df\n",
    "    x_dict = {'id':id_col,'time':time_col,'value':x_col}\n",
    "        \n",
    "    # return dataframe\n",
    "    return pd.DataFrame(x_dict)"
   ]
  },
  {
   "cell_type": "code",
   "execution_count": 11,
   "metadata": {
    "cell_id": "00022-117f3cdd-76fe-4f1e-a9d7-10cf25e866e6",
    "deepnote_cell_height": 621.75,
    "deepnote_cell_type": "code",
    "deepnote_output_heights": [
     381
    ]
   },
   "outputs": [
    {
     "data": {
      "text/html": [
       "<div>\n",
       "<style scoped>\n",
       "    .dataframe tbody tr th:only-of-type {\n",
       "        vertical-align: middle;\n",
       "    }\n",
       "\n",
       "    .dataframe tbody tr th {\n",
       "        vertical-align: top;\n",
       "    }\n",
       "\n",
       "    .dataframe thead th {\n",
       "        text-align: right;\n",
       "    }\n",
       "</style>\n",
       "<table border=\"1\" class=\"dataframe\">\n",
       "  <thead>\n",
       "    <tr style=\"text-align: right;\">\n",
       "      <th></th>\n",
       "      <th>id</th>\n",
       "      <th>time</th>\n",
       "      <th>value</th>\n",
       "    </tr>\n",
       "  </thead>\n",
       "  <tbody>\n",
       "    <tr>\n",
       "      <th>0</th>\n",
       "      <td>0</td>\n",
       "      <td>0</td>\n",
       "      <td>0.0</td>\n",
       "    </tr>\n",
       "    <tr>\n",
       "      <th>1</th>\n",
       "      <td>0</td>\n",
       "      <td>1</td>\n",
       "      <td>-5.0</td>\n",
       "    </tr>\n",
       "    <tr>\n",
       "      <th>2</th>\n",
       "      <td>0</td>\n",
       "      <td>2</td>\n",
       "      <td>23.0</td>\n",
       "    </tr>\n",
       "    <tr>\n",
       "      <th>3</th>\n",
       "      <td>0</td>\n",
       "      <td>3</td>\n",
       "      <td>3.0</td>\n",
       "    </tr>\n",
       "    <tr>\n",
       "      <th>4</th>\n",
       "      <td>0</td>\n",
       "      <td>4</td>\n",
       "      <td>-19.0</td>\n",
       "    </tr>\n",
       "    <tr>\n",
       "      <th>...</th>\n",
       "      <td>...</td>\n",
       "      <td>...</td>\n",
       "      <td>...</td>\n",
       "    </tr>\n",
       "    <tr>\n",
       "      <th>1199995</th>\n",
       "      <td>19999</td>\n",
       "      <td>55</td>\n",
       "      <td>5941150.0</td>\n",
       "    </tr>\n",
       "    <tr>\n",
       "      <th>1199996</th>\n",
       "      <td>19999</td>\n",
       "      <td>56</td>\n",
       "      <td>5941160.0</td>\n",
       "    </tr>\n",
       "    <tr>\n",
       "      <th>1199997</th>\n",
       "      <td>19999</td>\n",
       "      <td>57</td>\n",
       "      <td>5941043.0</td>\n",
       "    </tr>\n",
       "    <tr>\n",
       "      <th>1199998</th>\n",
       "      <td>19999</td>\n",
       "      <td>58</td>\n",
       "      <td>5941123.0</td>\n",
       "    </tr>\n",
       "    <tr>\n",
       "      <th>1199999</th>\n",
       "      <td>19999</td>\n",
       "      <td>59</td>\n",
       "      <td>5941127.0</td>\n",
       "    </tr>\n",
       "  </tbody>\n",
       "</table>\n",
       "<p>1200000 rows × 3 columns</p>\n",
       "</div>"
      ],
      "text/plain": [
       "            id  time      value\n",
       "0            0     0        0.0\n",
       "1            0     1       -5.0\n",
       "2            0     2       23.0\n",
       "3            0     3        3.0\n",
       "4            0     4      -19.0\n",
       "...        ...   ...        ...\n",
       "1199995  19999    55  5941150.0\n",
       "1199996  19999    56  5941160.0\n",
       "1199997  19999    57  5941043.0\n",
       "1199998  19999    58  5941123.0\n",
       "1199999  19999    59  5941127.0\n",
       "\n",
       "[1200000 rows x 3 columns]"
      ]
     },
     "execution_count": 11,
     "metadata": {},
     "output_type": "execute_result"
    }
   ],
   "source": [
    "# get df\n",
    "df = get_df(x) \n",
    "\n",
    "# check that last columns, if reshaped is equal to x\n",
    "#df_to_array = df.values[:,-1].reshape(x.shape[0],x.shape[1])\n",
    "#sum of different values: should be 0\n",
    "#print('Differences:',np.sum(df_to_array != x))\n",
    "\n",
    "df"
   ]
  },
  {
   "cell_type": "markdown",
   "metadata": {
    "cell_id": "00023-86c086d2-84ea-4cb9-b7c3-f574279571e7",
    "deepnote_cell_height": 61.83332824707031,
    "deepnote_cell_type": "markdown",
    "tags": []
   },
   "source": [
    "### Extract features "
   ]
  },
  {
   "cell_type": "code",
   "execution_count": 12,
   "metadata": {
    "cell_id": "00024-163af515-d062-48f1-886a-73162226d15e",
    "deepnote_cell_height": 237.4166717529297,
    "deepnote_cell_type": "code"
   },
   "outputs": [
    {
     "name": "stderr",
     "output_type": "stream",
     "text": [
      "Feature Extraction: 100%|███████████████████████| 20/20 [12:11<00:00, 36.55s/it]\n"
     ]
    }
   ],
   "source": [
    "# extract features\n",
    "x_features = extract_features(\n",
    "                            df, # our dataframe\n",
    "                            column_id='id', # sample id, from 0 to N\n",
    "                            column_sort='time', # timestep, from 0 to t\n",
    "                            column_kind=None, # we have only one feature\n",
    "                            column_value='value', # value of input \n",
    "                            n_jobs=4) # number of cores"
   ]
  },
  {
   "cell_type": "code",
   "execution_count": 13,
   "metadata": {
    "cell_id": "00025-fdcfcfec-3492-42e4-a54e-7654a9e43a28",
    "deepnote_cell_height": 506.75,
    "deepnote_cell_type": "code",
    "deepnote_output_heights": [
     392
    ]
   },
   "outputs": [
    {
     "data": {
      "text/html": [
       "<div>\n",
       "<style scoped>\n",
       "    .dataframe tbody tr th:only-of-type {\n",
       "        vertical-align: middle;\n",
       "    }\n",
       "\n",
       "    .dataframe tbody tr th {\n",
       "        vertical-align: top;\n",
       "    }\n",
       "\n",
       "    .dataframe thead th {\n",
       "        text-align: right;\n",
       "    }\n",
       "</style>\n",
       "<table border=\"1\" class=\"dataframe\">\n",
       "  <thead>\n",
       "    <tr style=\"text-align: right;\">\n",
       "      <th></th>\n",
       "      <th>value__variance_larger_than_standard_deviation</th>\n",
       "      <th>value__has_duplicate_max</th>\n",
       "      <th>value__has_duplicate_min</th>\n",
       "      <th>value__has_duplicate</th>\n",
       "      <th>value__sum_values</th>\n",
       "      <th>value__abs_energy</th>\n",
       "      <th>value__mean_abs_change</th>\n",
       "      <th>value__mean_change</th>\n",
       "      <th>value__mean_second_derivative_central</th>\n",
       "      <th>value__median</th>\n",
       "      <th>...</th>\n",
       "      <th>value__permutation_entropy__dimension_6__tau_1</th>\n",
       "      <th>value__permutation_entropy__dimension_7__tau_1</th>\n",
       "      <th>value__query_similarity_count__query_None__threshold_0.0</th>\n",
       "      <th>value__matrix_profile__feature_\"min\"__threshold_0.98</th>\n",
       "      <th>value__matrix_profile__feature_\"max\"__threshold_0.98</th>\n",
       "      <th>value__matrix_profile__feature_\"mean\"__threshold_0.98</th>\n",
       "      <th>value__matrix_profile__feature_\"median\"__threshold_0.98</th>\n",
       "      <th>value__matrix_profile__feature_\"25\"__threshold_0.98</th>\n",
       "      <th>value__matrix_profile__feature_\"75\"__threshold_0.98</th>\n",
       "      <th>value__mean_n_absolute_max__number_of_maxima_7</th>\n",
       "    </tr>\n",
       "  </thead>\n",
       "  <tbody>\n",
       "    <tr>\n",
       "      <th>0</th>\n",
       "      <td>1.0</td>\n",
       "      <td>0.0</td>\n",
       "      <td>0.0</td>\n",
       "      <td>1.0</td>\n",
       "      <td>16750.0</td>\n",
       "      <td>6.729150e+06</td>\n",
       "      <td>43.101695</td>\n",
       "      <td>3.576271</td>\n",
       "      <td>0.405172</td>\n",
       "      <td>289.5</td>\n",
       "      <td>...</td>\n",
       "      <td>3.608440</td>\n",
       "      <td>3.809279</td>\n",
       "      <td>NaN</td>\n",
       "      <td>0.731923</td>\n",
       "      <td>3.235582</td>\n",
       "      <td>1.491836</td>\n",
       "      <td>1.414559</td>\n",
       "      <td>1.093670</td>\n",
       "      <td>1.850822</td>\n",
       "      <td>5.945714e+02</td>\n",
       "    </tr>\n",
       "    <tr>\n",
       "      <th>1</th>\n",
       "      <td>1.0</td>\n",
       "      <td>0.0</td>\n",
       "      <td>0.0</td>\n",
       "      <td>1.0</td>\n",
       "      <td>27302.0</td>\n",
       "      <td>1.455619e+07</td>\n",
       "      <td>44.000000</td>\n",
       "      <td>8.033898</td>\n",
       "      <td>-0.086207</td>\n",
       "      <td>509.5</td>\n",
       "      <td>...</td>\n",
       "      <td>3.462655</td>\n",
       "      <td>3.659720</td>\n",
       "      <td>NaN</td>\n",
       "      <td>NaN</td>\n",
       "      <td>NaN</td>\n",
       "      <td>NaN</td>\n",
       "      <td>NaN</td>\n",
       "      <td>NaN</td>\n",
       "      <td>NaN</td>\n",
       "      <td>6.811429e+02</td>\n",
       "    </tr>\n",
       "    <tr>\n",
       "      <th>2</th>\n",
       "      <td>1.0</td>\n",
       "      <td>0.0</td>\n",
       "      <td>0.0</td>\n",
       "      <td>1.0</td>\n",
       "      <td>41650.0</td>\n",
       "      <td>3.090479e+07</td>\n",
       "      <td>45.491525</td>\n",
       "      <td>2.576271</td>\n",
       "      <td>-0.862069</td>\n",
       "      <td>784.0</td>\n",
       "      <td>...</td>\n",
       "      <td>4.007333</td>\n",
       "      <td>3.988984</td>\n",
       "      <td>NaN</td>\n",
       "      <td>NaN</td>\n",
       "      <td>NaN</td>\n",
       "      <td>NaN</td>\n",
       "      <td>NaN</td>\n",
       "      <td>NaN</td>\n",
       "      <td>NaN</td>\n",
       "      <td>8.632857e+02</td>\n",
       "    </tr>\n",
       "    <tr>\n",
       "      <th>3</th>\n",
       "      <td>1.0</td>\n",
       "      <td>0.0</td>\n",
       "      <td>0.0</td>\n",
       "      <td>1.0</td>\n",
       "      <td>37428.0</td>\n",
       "      <td>2.393510e+07</td>\n",
       "      <td>44.372881</td>\n",
       "      <td>-2.169492</td>\n",
       "      <td>1.008621</td>\n",
       "      <td>631.0</td>\n",
       "      <td>...</td>\n",
       "      <td>3.871793</td>\n",
       "      <td>3.937640</td>\n",
       "      <td>NaN</td>\n",
       "      <td>NaN</td>\n",
       "      <td>NaN</td>\n",
       "      <td>NaN</td>\n",
       "      <td>NaN</td>\n",
       "      <td>NaN</td>\n",
       "      <td>NaN</td>\n",
       "      <td>7.844286e+02</td>\n",
       "    </tr>\n",
       "    <tr>\n",
       "      <th>4</th>\n",
       "      <td>1.0</td>\n",
       "      <td>0.0</td>\n",
       "      <td>0.0</td>\n",
       "      <td>1.0</td>\n",
       "      <td>58260.0</td>\n",
       "      <td>6.072359e+07</td>\n",
       "      <td>54.593220</td>\n",
       "      <td>10.728814</td>\n",
       "      <td>-0.422414</td>\n",
       "      <td>909.0</td>\n",
       "      <td>...</td>\n",
       "      <td>3.575507</td>\n",
       "      <td>3.773917</td>\n",
       "      <td>NaN</td>\n",
       "      <td>0.798380</td>\n",
       "      <td>4.985956</td>\n",
       "      <td>2.381229</td>\n",
       "      <td>1.596584</td>\n",
       "      <td>1.268636</td>\n",
       "      <td>4.166435</td>\n",
       "      <td>1.389857e+03</td>\n",
       "    </tr>\n",
       "    <tr>\n",
       "      <th>...</th>\n",
       "      <td>...</td>\n",
       "      <td>...</td>\n",
       "      <td>...</td>\n",
       "      <td>...</td>\n",
       "      <td>...</td>\n",
       "      <td>...</td>\n",
       "      <td>...</td>\n",
       "      <td>...</td>\n",
       "      <td>...</td>\n",
       "      <td>...</td>\n",
       "      <td>...</td>\n",
       "      <td>...</td>\n",
       "      <td>...</td>\n",
       "      <td>...</td>\n",
       "      <td>...</td>\n",
       "      <td>...</td>\n",
       "      <td>...</td>\n",
       "      <td>...</td>\n",
       "      <td>...</td>\n",
       "      <td>...</td>\n",
       "      <td>...</td>\n",
       "    </tr>\n",
       "    <tr>\n",
       "      <th>19995</th>\n",
       "      <td>1.0</td>\n",
       "      <td>0.0</td>\n",
       "      <td>0.0</td>\n",
       "      <td>1.0</td>\n",
       "      <td>356340007.0</td>\n",
       "      <td>2.116303e+15</td>\n",
       "      <td>36.016949</td>\n",
       "      <td>5.406780</td>\n",
       "      <td>-0.189655</td>\n",
       "      <td>5938968.5</td>\n",
       "      <td>...</td>\n",
       "      <td>3.906512</td>\n",
       "      <td>3.963312</td>\n",
       "      <td>NaN</td>\n",
       "      <td>NaN</td>\n",
       "      <td>NaN</td>\n",
       "      <td>NaN</td>\n",
       "      <td>NaN</td>\n",
       "      <td>NaN</td>\n",
       "      <td>NaN</td>\n",
       "      <td>5.939236e+06</td>\n",
       "    </tr>\n",
       "    <tr>\n",
       "      <th>19996</th>\n",
       "      <td>1.0</td>\n",
       "      <td>0.0</td>\n",
       "      <td>0.0</td>\n",
       "      <td>1.0</td>\n",
       "      <td>356379434.0</td>\n",
       "      <td>2.116772e+15</td>\n",
       "      <td>53.627119</td>\n",
       "      <td>22.779661</td>\n",
       "      <td>-1.448276</td>\n",
       "      <td>5939727.5</td>\n",
       "      <td>...</td>\n",
       "      <td>3.376707</td>\n",
       "      <td>3.635867</td>\n",
       "      <td>NaN</td>\n",
       "      <td>0.823222</td>\n",
       "      <td>4.662838</td>\n",
       "      <td>2.247026</td>\n",
       "      <td>1.885375</td>\n",
       "      <td>1.300430</td>\n",
       "      <td>2.898579</td>\n",
       "      <td>5.940137e+06</td>\n",
       "    </tr>\n",
       "    <tr>\n",
       "      <th>19997</th>\n",
       "      <td>1.0</td>\n",
       "      <td>0.0</td>\n",
       "      <td>0.0</td>\n",
       "      <td>1.0</td>\n",
       "      <td>356421302.0</td>\n",
       "      <td>2.117269e+15</td>\n",
       "      <td>49.423729</td>\n",
       "      <td>2.474576</td>\n",
       "      <td>-0.491379</td>\n",
       "      <td>5940410.5</td>\n",
       "      <td>...</td>\n",
       "      <td>3.846587</td>\n",
       "      <td>3.988984</td>\n",
       "      <td>NaN</td>\n",
       "      <td>NaN</td>\n",
       "      <td>NaN</td>\n",
       "      <td>NaN</td>\n",
       "      <td>NaN</td>\n",
       "      <td>NaN</td>\n",
       "      <td>NaN</td>\n",
       "      <td>5.940534e+06</td>\n",
       "    </tr>\n",
       "    <tr>\n",
       "      <th>19998</th>\n",
       "      <td>1.0</td>\n",
       "      <td>0.0</td>\n",
       "      <td>0.0</td>\n",
       "      <td>1.0</td>\n",
       "      <td>356455577.0</td>\n",
       "      <td>2.117676e+15</td>\n",
       "      <td>41.593220</td>\n",
       "      <td>13.186441</td>\n",
       "      <td>-0.327586</td>\n",
       "      <td>5941009.0</td>\n",
       "      <td>...</td>\n",
       "      <td>3.734994</td>\n",
       "      <td>3.886296</td>\n",
       "      <td>NaN</td>\n",
       "      <td>NaN</td>\n",
       "      <td>NaN</td>\n",
       "      <td>NaN</td>\n",
       "      <td>NaN</td>\n",
       "      <td>NaN</td>\n",
       "      <td>NaN</td>\n",
       "      <td>5.941160e+06</td>\n",
       "    </tr>\n",
       "    <tr>\n",
       "      <th>19999</th>\n",
       "      <td>1.0</td>\n",
       "      <td>0.0</td>\n",
       "      <td>0.0</td>\n",
       "      <td>1.0</td>\n",
       "      <td>356466424.0</td>\n",
       "      <td>2.117805e+15</td>\n",
       "      <td>54.627119</td>\n",
       "      <td>-0.118644</td>\n",
       "      <td>-0.568966</td>\n",
       "      <td>5941073.5</td>\n",
       "      <td>...</td>\n",
       "      <td>3.837074</td>\n",
       "      <td>3.963312</td>\n",
       "      <td>NaN</td>\n",
       "      <td>NaN</td>\n",
       "      <td>NaN</td>\n",
       "      <td>NaN</td>\n",
       "      <td>NaN</td>\n",
       "      <td>NaN</td>\n",
       "      <td>NaN</td>\n",
       "      <td>5.941405e+06</td>\n",
       "    </tr>\n",
       "  </tbody>\n",
       "</table>\n",
       "<p>20000 rows × 789 columns</p>\n",
       "</div>"
      ],
      "text/plain": [
       "       value__variance_larger_than_standard_deviation  \\\n",
       "0                                                 1.0   \n",
       "1                                                 1.0   \n",
       "2                                                 1.0   \n",
       "3                                                 1.0   \n",
       "4                                                 1.0   \n",
       "...                                               ...   \n",
       "19995                                             1.0   \n",
       "19996                                             1.0   \n",
       "19997                                             1.0   \n",
       "19998                                             1.0   \n",
       "19999                                             1.0   \n",
       "\n",
       "       value__has_duplicate_max  value__has_duplicate_min  \\\n",
       "0                           0.0                       0.0   \n",
       "1                           0.0                       0.0   \n",
       "2                           0.0                       0.0   \n",
       "3                           0.0                       0.0   \n",
       "4                           0.0                       0.0   \n",
       "...                         ...                       ...   \n",
       "19995                       0.0                       0.0   \n",
       "19996                       0.0                       0.0   \n",
       "19997                       0.0                       0.0   \n",
       "19998                       0.0                       0.0   \n",
       "19999                       0.0                       0.0   \n",
       "\n",
       "       value__has_duplicate  value__sum_values  value__abs_energy  \\\n",
       "0                       1.0            16750.0       6.729150e+06   \n",
       "1                       1.0            27302.0       1.455619e+07   \n",
       "2                       1.0            41650.0       3.090479e+07   \n",
       "3                       1.0            37428.0       2.393510e+07   \n",
       "4                       1.0            58260.0       6.072359e+07   \n",
       "...                     ...                ...                ...   \n",
       "19995                   1.0        356340007.0       2.116303e+15   \n",
       "19996                   1.0        356379434.0       2.116772e+15   \n",
       "19997                   1.0        356421302.0       2.117269e+15   \n",
       "19998                   1.0        356455577.0       2.117676e+15   \n",
       "19999                   1.0        356466424.0       2.117805e+15   \n",
       "\n",
       "       value__mean_abs_change  value__mean_change  \\\n",
       "0                   43.101695            3.576271   \n",
       "1                   44.000000            8.033898   \n",
       "2                   45.491525            2.576271   \n",
       "3                   44.372881           -2.169492   \n",
       "4                   54.593220           10.728814   \n",
       "...                       ...                 ...   \n",
       "19995               36.016949            5.406780   \n",
       "19996               53.627119           22.779661   \n",
       "19997               49.423729            2.474576   \n",
       "19998               41.593220           13.186441   \n",
       "19999               54.627119           -0.118644   \n",
       "\n",
       "       value__mean_second_derivative_central  value__median  ...  \\\n",
       "0                                   0.405172          289.5  ...   \n",
       "1                                  -0.086207          509.5  ...   \n",
       "2                                  -0.862069          784.0  ...   \n",
       "3                                   1.008621          631.0  ...   \n",
       "4                                  -0.422414          909.0  ...   \n",
       "...                                      ...            ...  ...   \n",
       "19995                              -0.189655      5938968.5  ...   \n",
       "19996                              -1.448276      5939727.5  ...   \n",
       "19997                              -0.491379      5940410.5  ...   \n",
       "19998                              -0.327586      5941009.0  ...   \n",
       "19999                              -0.568966      5941073.5  ...   \n",
       "\n",
       "       value__permutation_entropy__dimension_6__tau_1  \\\n",
       "0                                            3.608440   \n",
       "1                                            3.462655   \n",
       "2                                            4.007333   \n",
       "3                                            3.871793   \n",
       "4                                            3.575507   \n",
       "...                                               ...   \n",
       "19995                                        3.906512   \n",
       "19996                                        3.376707   \n",
       "19997                                        3.846587   \n",
       "19998                                        3.734994   \n",
       "19999                                        3.837074   \n",
       "\n",
       "       value__permutation_entropy__dimension_7__tau_1  \\\n",
       "0                                            3.809279   \n",
       "1                                            3.659720   \n",
       "2                                            3.988984   \n",
       "3                                            3.937640   \n",
       "4                                            3.773917   \n",
       "...                                               ...   \n",
       "19995                                        3.963312   \n",
       "19996                                        3.635867   \n",
       "19997                                        3.988984   \n",
       "19998                                        3.886296   \n",
       "19999                                        3.963312   \n",
       "\n",
       "       value__query_similarity_count__query_None__threshold_0.0  \\\n",
       "0                                                    NaN          \n",
       "1                                                    NaN          \n",
       "2                                                    NaN          \n",
       "3                                                    NaN          \n",
       "4                                                    NaN          \n",
       "...                                                  ...          \n",
       "19995                                                NaN          \n",
       "19996                                                NaN          \n",
       "19997                                                NaN          \n",
       "19998                                                NaN          \n",
       "19999                                                NaN          \n",
       "\n",
       "       value__matrix_profile__feature_\"min\"__threshold_0.98  \\\n",
       "0                                               0.731923      \n",
       "1                                                    NaN      \n",
       "2                                                    NaN      \n",
       "3                                                    NaN      \n",
       "4                                               0.798380      \n",
       "...                                                  ...      \n",
       "19995                                                NaN      \n",
       "19996                                           0.823222      \n",
       "19997                                                NaN      \n",
       "19998                                                NaN      \n",
       "19999                                                NaN      \n",
       "\n",
       "       value__matrix_profile__feature_\"max\"__threshold_0.98  \\\n",
       "0                                               3.235582      \n",
       "1                                                    NaN      \n",
       "2                                                    NaN      \n",
       "3                                                    NaN      \n",
       "4                                               4.985956      \n",
       "...                                                  ...      \n",
       "19995                                                NaN      \n",
       "19996                                           4.662838      \n",
       "19997                                                NaN      \n",
       "19998                                                NaN      \n",
       "19999                                                NaN      \n",
       "\n",
       "       value__matrix_profile__feature_\"mean\"__threshold_0.98  \\\n",
       "0                                               1.491836       \n",
       "1                                                    NaN       \n",
       "2                                                    NaN       \n",
       "3                                                    NaN       \n",
       "4                                               2.381229       \n",
       "...                                                  ...       \n",
       "19995                                                NaN       \n",
       "19996                                           2.247026       \n",
       "19997                                                NaN       \n",
       "19998                                                NaN       \n",
       "19999                                                NaN       \n",
       "\n",
       "       value__matrix_profile__feature_\"median\"__threshold_0.98  \\\n",
       "0                                               1.414559         \n",
       "1                                                    NaN         \n",
       "2                                                    NaN         \n",
       "3                                                    NaN         \n",
       "4                                               1.596584         \n",
       "...                                                  ...         \n",
       "19995                                                NaN         \n",
       "19996                                           1.885375         \n",
       "19997                                                NaN         \n",
       "19998                                                NaN         \n",
       "19999                                                NaN         \n",
       "\n",
       "       value__matrix_profile__feature_\"25\"__threshold_0.98  \\\n",
       "0                                               1.093670     \n",
       "1                                                    NaN     \n",
       "2                                                    NaN     \n",
       "3                                                    NaN     \n",
       "4                                               1.268636     \n",
       "...                                                  ...     \n",
       "19995                                                NaN     \n",
       "19996                                           1.300430     \n",
       "19997                                                NaN     \n",
       "19998                                                NaN     \n",
       "19999                                                NaN     \n",
       "\n",
       "       value__matrix_profile__feature_\"75\"__threshold_0.98  \\\n",
       "0                                               1.850822     \n",
       "1                                                    NaN     \n",
       "2                                                    NaN     \n",
       "3                                                    NaN     \n",
       "4                                               4.166435     \n",
       "...                                                  ...     \n",
       "19995                                                NaN     \n",
       "19996                                           2.898579     \n",
       "19997                                                NaN     \n",
       "19998                                                NaN     \n",
       "19999                                                NaN     \n",
       "\n",
       "       value__mean_n_absolute_max__number_of_maxima_7  \n",
       "0                                        5.945714e+02  \n",
       "1                                        6.811429e+02  \n",
       "2                                        8.632857e+02  \n",
       "3                                        7.844286e+02  \n",
       "4                                        1.389857e+03  \n",
       "...                                               ...  \n",
       "19995                                    5.939236e+06  \n",
       "19996                                    5.940137e+06  \n",
       "19997                                    5.940534e+06  \n",
       "19998                                    5.941160e+06  \n",
       "19999                                    5.941405e+06  \n",
       "\n",
       "[20000 rows x 789 columns]"
      ]
     },
     "execution_count": 13,
     "metadata": {},
     "output_type": "execute_result"
    }
   ],
   "source": [
    "# look at x_features\n",
    "x_features"
   ]
  },
  {
   "cell_type": "code",
   "execution_count": 14,
   "metadata": {
    "cell_id": "00027-d1b5dabc-90ee-4b4c-a5eb-b53f50d9ea32",
    "deepnote_cell_height": 632.75,
    "deepnote_cell_type": "code",
    "deepnote_output_heights": [
     392
    ]
   },
   "outputs": [
    {
     "data": {
      "text/html": [
       "<div>\n",
       "<style scoped>\n",
       "    .dataframe tbody tr th:only-of-type {\n",
       "        vertical-align: middle;\n",
       "    }\n",
       "\n",
       "    .dataframe tbody tr th {\n",
       "        vertical-align: top;\n",
       "    }\n",
       "\n",
       "    .dataframe thead th {\n",
       "        text-align: right;\n",
       "    }\n",
       "</style>\n",
       "<table border=\"1\" class=\"dataframe\">\n",
       "  <thead>\n",
       "    <tr style=\"text-align: right;\">\n",
       "      <th></th>\n",
       "      <th>value__variance_larger_than_standard_deviation</th>\n",
       "      <th>value__has_duplicate_max</th>\n",
       "      <th>value__has_duplicate_min</th>\n",
       "      <th>value__has_duplicate</th>\n",
       "      <th>value__sum_values</th>\n",
       "      <th>value__abs_energy</th>\n",
       "      <th>value__mean_abs_change</th>\n",
       "      <th>value__mean_change</th>\n",
       "      <th>value__mean_second_derivative_central</th>\n",
       "      <th>value__median</th>\n",
       "      <th>...</th>\n",
       "      <th>value__fourier_entropy__bins_3</th>\n",
       "      <th>value__fourier_entropy__bins_5</th>\n",
       "      <th>value__fourier_entropy__bins_10</th>\n",
       "      <th>value__fourier_entropy__bins_100</th>\n",
       "      <th>value__permutation_entropy__dimension_3__tau_1</th>\n",
       "      <th>value__permutation_entropy__dimension_4__tau_1</th>\n",
       "      <th>value__permutation_entropy__dimension_5__tau_1</th>\n",
       "      <th>value__permutation_entropy__dimension_6__tau_1</th>\n",
       "      <th>value__permutation_entropy__dimension_7__tau_1</th>\n",
       "      <th>value__mean_n_absolute_max__number_of_maxima_7</th>\n",
       "    </tr>\n",
       "  </thead>\n",
       "  <tbody>\n",
       "    <tr>\n",
       "      <th>0</th>\n",
       "      <td>1.0</td>\n",
       "      <td>0.0</td>\n",
       "      <td>0.0</td>\n",
       "      <td>1.0</td>\n",
       "      <td>16750.0</td>\n",
       "      <td>6.729150e+06</td>\n",
       "      <td>43.101695</td>\n",
       "      <td>3.576271</td>\n",
       "      <td>0.405172</td>\n",
       "      <td>289.5</td>\n",
       "      <td>...</td>\n",
       "      <td>0.283936</td>\n",
       "      <td>0.424254</td>\n",
       "      <td>0.424254</td>\n",
       "      <td>0.980757</td>\n",
       "      <td>1.606551</td>\n",
       "      <td>2.560840</td>\n",
       "      <td>3.232518</td>\n",
       "      <td>3.608440</td>\n",
       "      <td>3.809279</td>\n",
       "      <td>5.945714e+02</td>\n",
       "    </tr>\n",
       "    <tr>\n",
       "      <th>1</th>\n",
       "      <td>1.0</td>\n",
       "      <td>0.0</td>\n",
       "      <td>0.0</td>\n",
       "      <td>1.0</td>\n",
       "      <td>27302.0</td>\n",
       "      <td>1.455619e+07</td>\n",
       "      <td>44.000000</td>\n",
       "      <td>8.033898</td>\n",
       "      <td>-0.086207</td>\n",
       "      <td>509.5</td>\n",
       "      <td>...</td>\n",
       "      <td>0.379535</td>\n",
       "      <td>0.379535</td>\n",
       "      <td>0.518700</td>\n",
       "      <td>1.107653</td>\n",
       "      <td>1.547018</td>\n",
       "      <td>2.436717</td>\n",
       "      <td>3.108691</td>\n",
       "      <td>3.462655</td>\n",
       "      <td>3.659720</td>\n",
       "      <td>6.811429e+02</td>\n",
       "    </tr>\n",
       "    <tr>\n",
       "      <th>2</th>\n",
       "      <td>1.0</td>\n",
       "      <td>0.0</td>\n",
       "      <td>0.0</td>\n",
       "      <td>1.0</td>\n",
       "      <td>41650.0</td>\n",
       "      <td>3.090479e+07</td>\n",
       "      <td>45.491525</td>\n",
       "      <td>2.576271</td>\n",
       "      <td>-0.862069</td>\n",
       "      <td>784.0</td>\n",
       "      <td>...</td>\n",
       "      <td>0.142506</td>\n",
       "      <td>0.379535</td>\n",
       "      <td>0.424254</td>\n",
       "      <td>1.107653</td>\n",
       "      <td>1.745508</td>\n",
       "      <td>2.930054</td>\n",
       "      <td>3.743700</td>\n",
       "      <td>4.007333</td>\n",
       "      <td>3.988984</td>\n",
       "      <td>8.632857e+02</td>\n",
       "    </tr>\n",
       "    <tr>\n",
       "      <th>3</th>\n",
       "      <td>1.0</td>\n",
       "      <td>0.0</td>\n",
       "      <td>0.0</td>\n",
       "      <td>1.0</td>\n",
       "      <td>37428.0</td>\n",
       "      <td>2.393510e+07</td>\n",
       "      <td>44.372881</td>\n",
       "      <td>-2.169492</td>\n",
       "      <td>1.008621</td>\n",
       "      <td>631.0</td>\n",
       "      <td>...</td>\n",
       "      <td>0.473981</td>\n",
       "      <td>0.687083</td>\n",
       "      <td>1.320351</td>\n",
       "      <td>2.757282</td>\n",
       "      <td>1.695334</td>\n",
       "      <td>2.879917</td>\n",
       "      <td>3.584589</td>\n",
       "      <td>3.871793</td>\n",
       "      <td>3.937640</td>\n",
       "      <td>7.844286e+02</td>\n",
       "    </tr>\n",
       "    <tr>\n",
       "      <th>4</th>\n",
       "      <td>1.0</td>\n",
       "      <td>0.0</td>\n",
       "      <td>0.0</td>\n",
       "      <td>1.0</td>\n",
       "      <td>58260.0</td>\n",
       "      <td>6.072359e+07</td>\n",
       "      <td>54.593220</td>\n",
       "      <td>10.728814</td>\n",
       "      <td>-0.422414</td>\n",
       "      <td>909.0</td>\n",
       "      <td>...</td>\n",
       "      <td>0.379535</td>\n",
       "      <td>0.424254</td>\n",
       "      <td>0.656671</td>\n",
       "      <td>0.838120</td>\n",
       "      <td>1.668815</td>\n",
       "      <td>2.785780</td>\n",
       "      <td>3.277698</td>\n",
       "      <td>3.575507</td>\n",
       "      <td>3.773917</td>\n",
       "      <td>1.389857e+03</td>\n",
       "    </tr>\n",
       "    <tr>\n",
       "      <th>...</th>\n",
       "      <td>...</td>\n",
       "      <td>...</td>\n",
       "      <td>...</td>\n",
       "      <td>...</td>\n",
       "      <td>...</td>\n",
       "      <td>...</td>\n",
       "      <td>...</td>\n",
       "      <td>...</td>\n",
       "      <td>...</td>\n",
       "      <td>...</td>\n",
       "      <td>...</td>\n",
       "      <td>...</td>\n",
       "      <td>...</td>\n",
       "      <td>...</td>\n",
       "      <td>...</td>\n",
       "      <td>...</td>\n",
       "      <td>...</td>\n",
       "      <td>...</td>\n",
       "      <td>...</td>\n",
       "      <td>...</td>\n",
       "      <td>...</td>\n",
       "    </tr>\n",
       "    <tr>\n",
       "      <th>19995</th>\n",
       "      <td>1.0</td>\n",
       "      <td>0.0</td>\n",
       "      <td>0.0</td>\n",
       "      <td>1.0</td>\n",
       "      <td>356340007.0</td>\n",
       "      <td>2.116303e+15</td>\n",
       "      <td>36.016949</td>\n",
       "      <td>5.406780</td>\n",
       "      <td>-0.189655</td>\n",
       "      <td>5938968.5</td>\n",
       "      <td>...</td>\n",
       "      <td>0.142506</td>\n",
       "      <td>0.379535</td>\n",
       "      <td>0.379535</td>\n",
       "      <td>0.794682</td>\n",
       "      <td>1.710332</td>\n",
       "      <td>2.823590</td>\n",
       "      <td>3.615412</td>\n",
       "      <td>3.906512</td>\n",
       "      <td>3.963312</td>\n",
       "      <td>5.939236e+06</td>\n",
       "    </tr>\n",
       "    <tr>\n",
       "      <th>19996</th>\n",
       "      <td>1.0</td>\n",
       "      <td>0.0</td>\n",
       "      <td>0.0</td>\n",
       "      <td>1.0</td>\n",
       "      <td>356379434.0</td>\n",
       "      <td>2.116772e+15</td>\n",
       "      <td>53.627119</td>\n",
       "      <td>22.779661</td>\n",
       "      <td>-1.448276</td>\n",
       "      <td>5939727.5</td>\n",
       "      <td>...</td>\n",
       "      <td>0.283936</td>\n",
       "      <td>0.424254</td>\n",
       "      <td>0.424254</td>\n",
       "      <td>1.089308</td>\n",
       "      <td>1.427545</td>\n",
       "      <td>2.228593</td>\n",
       "      <td>2.940236</td>\n",
       "      <td>3.376707</td>\n",
       "      <td>3.635867</td>\n",
       "      <td>5.940137e+06</td>\n",
       "    </tr>\n",
       "    <tr>\n",
       "      <th>19997</th>\n",
       "      <td>1.0</td>\n",
       "      <td>0.0</td>\n",
       "      <td>0.0</td>\n",
       "      <td>1.0</td>\n",
       "      <td>356421302.0</td>\n",
       "      <td>2.117269e+15</td>\n",
       "      <td>49.423729</td>\n",
       "      <td>2.474576</td>\n",
       "      <td>-0.491379</td>\n",
       "      <td>5940410.5</td>\n",
       "      <td>...</td>\n",
       "      <td>0.457102</td>\n",
       "      <td>0.518700</td>\n",
       "      <td>0.793400</td>\n",
       "      <td>1.803691</td>\n",
       "      <td>1.706414</td>\n",
       "      <td>2.761055</td>\n",
       "      <td>3.476224</td>\n",
       "      <td>3.846587</td>\n",
       "      <td>3.988984</td>\n",
       "      <td>5.940534e+06</td>\n",
       "    </tr>\n",
       "    <tr>\n",
       "      <th>19998</th>\n",
       "      <td>1.0</td>\n",
       "      <td>0.0</td>\n",
       "      <td>0.0</td>\n",
       "      <td>1.0</td>\n",
       "      <td>356455577.0</td>\n",
       "      <td>2.117676e+15</td>\n",
       "      <td>41.593220</td>\n",
       "      <td>13.186441</td>\n",
       "      <td>-0.327586</td>\n",
       "      <td>5941009.0</td>\n",
       "      <td>...</td>\n",
       "      <td>0.283936</td>\n",
       "      <td>0.283936</td>\n",
       "      <td>0.424254</td>\n",
       "      <td>0.884120</td>\n",
       "      <td>1.610636</td>\n",
       "      <td>2.714731</td>\n",
       "      <td>3.372371</td>\n",
       "      <td>3.734994</td>\n",
       "      <td>3.886296</td>\n",
       "      <td>5.941160e+06</td>\n",
       "    </tr>\n",
       "    <tr>\n",
       "      <th>19999</th>\n",
       "      <td>1.0</td>\n",
       "      <td>0.0</td>\n",
       "      <td>0.0</td>\n",
       "      <td>1.0</td>\n",
       "      <td>356466424.0</td>\n",
       "      <td>2.117805e+15</td>\n",
       "      <td>54.627119</td>\n",
       "      <td>-0.118644</td>\n",
       "      <td>-0.568966</td>\n",
       "      <td>5941073.5</td>\n",
       "      <td>...</td>\n",
       "      <td>0.379535</td>\n",
       "      <td>0.518700</td>\n",
       "      <td>0.701390</td>\n",
       "      <td>0.973558</td>\n",
       "      <td>1.707860</td>\n",
       "      <td>2.868733</td>\n",
       "      <td>3.550490</td>\n",
       "      <td>3.837074</td>\n",
       "      <td>3.963312</td>\n",
       "      <td>5.941405e+06</td>\n",
       "    </tr>\n",
       "  </tbody>\n",
       "</table>\n",
       "<p>20000 rows × 498 columns</p>\n",
       "</div>"
      ],
      "text/plain": [
       "       value__variance_larger_than_standard_deviation  \\\n",
       "0                                                 1.0   \n",
       "1                                                 1.0   \n",
       "2                                                 1.0   \n",
       "3                                                 1.0   \n",
       "4                                                 1.0   \n",
       "...                                               ...   \n",
       "19995                                             1.0   \n",
       "19996                                             1.0   \n",
       "19997                                             1.0   \n",
       "19998                                             1.0   \n",
       "19999                                             1.0   \n",
       "\n",
       "       value__has_duplicate_max  value__has_duplicate_min  \\\n",
       "0                           0.0                       0.0   \n",
       "1                           0.0                       0.0   \n",
       "2                           0.0                       0.0   \n",
       "3                           0.0                       0.0   \n",
       "4                           0.0                       0.0   \n",
       "...                         ...                       ...   \n",
       "19995                       0.0                       0.0   \n",
       "19996                       0.0                       0.0   \n",
       "19997                       0.0                       0.0   \n",
       "19998                       0.0                       0.0   \n",
       "19999                       0.0                       0.0   \n",
       "\n",
       "       value__has_duplicate  value__sum_values  value__abs_energy  \\\n",
       "0                       1.0            16750.0       6.729150e+06   \n",
       "1                       1.0            27302.0       1.455619e+07   \n",
       "2                       1.0            41650.0       3.090479e+07   \n",
       "3                       1.0            37428.0       2.393510e+07   \n",
       "4                       1.0            58260.0       6.072359e+07   \n",
       "...                     ...                ...                ...   \n",
       "19995                   1.0        356340007.0       2.116303e+15   \n",
       "19996                   1.0        356379434.0       2.116772e+15   \n",
       "19997                   1.0        356421302.0       2.117269e+15   \n",
       "19998                   1.0        356455577.0       2.117676e+15   \n",
       "19999                   1.0        356466424.0       2.117805e+15   \n",
       "\n",
       "       value__mean_abs_change  value__mean_change  \\\n",
       "0                   43.101695            3.576271   \n",
       "1                   44.000000            8.033898   \n",
       "2                   45.491525            2.576271   \n",
       "3                   44.372881           -2.169492   \n",
       "4                   54.593220           10.728814   \n",
       "...                       ...                 ...   \n",
       "19995               36.016949            5.406780   \n",
       "19996               53.627119           22.779661   \n",
       "19997               49.423729            2.474576   \n",
       "19998               41.593220           13.186441   \n",
       "19999               54.627119           -0.118644   \n",
       "\n",
       "       value__mean_second_derivative_central  value__median  ...  \\\n",
       "0                                   0.405172          289.5  ...   \n",
       "1                                  -0.086207          509.5  ...   \n",
       "2                                  -0.862069          784.0  ...   \n",
       "3                                   1.008621          631.0  ...   \n",
       "4                                  -0.422414          909.0  ...   \n",
       "...                                      ...            ...  ...   \n",
       "19995                              -0.189655      5938968.5  ...   \n",
       "19996                              -1.448276      5939727.5  ...   \n",
       "19997                              -0.491379      5940410.5  ...   \n",
       "19998                              -0.327586      5941009.0  ...   \n",
       "19999                              -0.568966      5941073.5  ...   \n",
       "\n",
       "       value__fourier_entropy__bins_3  value__fourier_entropy__bins_5  \\\n",
       "0                            0.283936                        0.424254   \n",
       "1                            0.379535                        0.379535   \n",
       "2                            0.142506                        0.379535   \n",
       "3                            0.473981                        0.687083   \n",
       "4                            0.379535                        0.424254   \n",
       "...                               ...                             ...   \n",
       "19995                        0.142506                        0.379535   \n",
       "19996                        0.283936                        0.424254   \n",
       "19997                        0.457102                        0.518700   \n",
       "19998                        0.283936                        0.283936   \n",
       "19999                        0.379535                        0.518700   \n",
       "\n",
       "       value__fourier_entropy__bins_10  value__fourier_entropy__bins_100  \\\n",
       "0                             0.424254                          0.980757   \n",
       "1                             0.518700                          1.107653   \n",
       "2                             0.424254                          1.107653   \n",
       "3                             1.320351                          2.757282   \n",
       "4                             0.656671                          0.838120   \n",
       "...                                ...                               ...   \n",
       "19995                         0.379535                          0.794682   \n",
       "19996                         0.424254                          1.089308   \n",
       "19997                         0.793400                          1.803691   \n",
       "19998                         0.424254                          0.884120   \n",
       "19999                         0.701390                          0.973558   \n",
       "\n",
       "       value__permutation_entropy__dimension_3__tau_1  \\\n",
       "0                                            1.606551   \n",
       "1                                            1.547018   \n",
       "2                                            1.745508   \n",
       "3                                            1.695334   \n",
       "4                                            1.668815   \n",
       "...                                               ...   \n",
       "19995                                        1.710332   \n",
       "19996                                        1.427545   \n",
       "19997                                        1.706414   \n",
       "19998                                        1.610636   \n",
       "19999                                        1.707860   \n",
       "\n",
       "       value__permutation_entropy__dimension_4__tau_1  \\\n",
       "0                                            2.560840   \n",
       "1                                            2.436717   \n",
       "2                                            2.930054   \n",
       "3                                            2.879917   \n",
       "4                                            2.785780   \n",
       "...                                               ...   \n",
       "19995                                        2.823590   \n",
       "19996                                        2.228593   \n",
       "19997                                        2.761055   \n",
       "19998                                        2.714731   \n",
       "19999                                        2.868733   \n",
       "\n",
       "       value__permutation_entropy__dimension_5__tau_1  \\\n",
       "0                                            3.232518   \n",
       "1                                            3.108691   \n",
       "2                                            3.743700   \n",
       "3                                            3.584589   \n",
       "4                                            3.277698   \n",
       "...                                               ...   \n",
       "19995                                        3.615412   \n",
       "19996                                        2.940236   \n",
       "19997                                        3.476224   \n",
       "19998                                        3.372371   \n",
       "19999                                        3.550490   \n",
       "\n",
       "       value__permutation_entropy__dimension_6__tau_1  \\\n",
       "0                                            3.608440   \n",
       "1                                            3.462655   \n",
       "2                                            4.007333   \n",
       "3                                            3.871793   \n",
       "4                                            3.575507   \n",
       "...                                               ...   \n",
       "19995                                        3.906512   \n",
       "19996                                        3.376707   \n",
       "19997                                        3.846587   \n",
       "19998                                        3.734994   \n",
       "19999                                        3.837074   \n",
       "\n",
       "       value__permutation_entropy__dimension_7__tau_1  \\\n",
       "0                                            3.809279   \n",
       "1                                            3.659720   \n",
       "2                                            3.988984   \n",
       "3                                            3.937640   \n",
       "4                                            3.773917   \n",
       "...                                               ...   \n",
       "19995                                        3.963312   \n",
       "19996                                        3.635867   \n",
       "19997                                        3.988984   \n",
       "19998                                        3.886296   \n",
       "19999                                        3.963312   \n",
       "\n",
       "       value__mean_n_absolute_max__number_of_maxima_7  \n",
       "0                                        5.945714e+02  \n",
       "1                                        6.811429e+02  \n",
       "2                                        8.632857e+02  \n",
       "3                                        7.844286e+02  \n",
       "4                                        1.389857e+03  \n",
       "...                                               ...  \n",
       "19995                                    5.939236e+06  \n",
       "19996                                    5.940137e+06  \n",
       "19997                                    5.940534e+06  \n",
       "19998                                    5.941160e+06  \n",
       "19999                                    5.941405e+06  \n",
       "\n",
       "[20000 rows x 498 columns]"
      ]
     },
     "execution_count": 14,
     "metadata": {},
     "output_type": "execute_result"
    }
   ],
   "source": [
    "# remove columns with NaN or inf\n",
    "x_features.replace([np.inf, -np.inf], np.nan, inplace=True)\n",
    "x_features = x_features.dropna(axis='columns')\n",
    "\n",
    "# save dataframe\n",
    "x_features.to_csv('x_features.csv')\n",
    "\n",
    "# look at clean x_features\n",
    "x_features"
   ]
  },
  {
   "cell_type": "markdown",
   "metadata": {
    "cell_id": "00028-953e0f15-d755-411d-b869-14d0a58e8e91",
    "deepnote_cell_height": 61.83332824707031,
    "deepnote_cell_type": "markdown"
   },
   "source": [
    "### Define datasets"
   ]
  },
  {
   "cell_type": "code",
   "execution_count": 15,
   "metadata": {
    "cell_id": "00029-cac5b246-a0ed-4415-a4d2-389ffbc59180",
    "deepnote_cell_height": 327.41668701171875,
    "deepnote_cell_type": "code",
    "tags": []
   },
   "outputs": [
    {
     "name": "stdout",
     "output_type": "stream",
     "text": [
      "total number of samples: 19700\n"
     ]
    }
   ],
   "source": [
    "# list of the sizes (number of samples) of the datasets\n",
    "N_samples = np.array([20, 50, 100, 150, 200, 250, 300, 400, 500])\n",
    "\n",
    "# for each size, select \"N_datasets\" indipendent datasets\n",
    "# in order to calculate the standard deviation of the accuracy of the model for each size\n",
    "N_datasets = 10\n",
    "\n",
    "# each dataset for each size is divided into training and test set\n",
    "perc_train = 0.8\n",
    "#perc_test = 0.2\n",
    "\n",
    "# total number of samples needed\n",
    "print('total number of samples:', np.sum(N_samples*N_datasets))"
   ]
  },
  {
   "cell_type": "markdown",
   "metadata": {
    "cell_id": "00030-9ffac324-34f6-4c9b-92d8-7c849e45f25f",
    "deepnote_cell_height": 61.83332824707031,
    "deepnote_cell_type": "markdown",
    "tags": []
   },
   "source": [
    "### Training, test and accuracy"
   ]
  },
  {
   "cell_type": "code",
   "execution_count": 16,
   "metadata": {
    "cell_id": "00031-97f6253b-52fc-4a24-b0f0-cf2ff1bc6b03",
    "deepnote_cell_height": 12440.1669921875,
    "deepnote_cell_type": "code",
    "tags": []
   },
   "outputs": [
    {
     "name": "stdout",
     "output_type": "stream",
     "text": [
      "0 0 (16, 443)\n"
     ]
    },
    {
     "name": "stderr",
     "output_type": "stream",
     "text": [
      "/home/eugenio/anaconda3/envs/Tf/lib/python3.8/site-packages/xgboost/data.py:262: FutureWarning: pandas.Int64Index is deprecated and will be removed from pandas in a future version. Use pandas.Index with the appropriate dtype instead.\n",
      "  elif isinstance(data.columns, (pd.Int64Index, pd.RangeIndex)):\n"
     ]
    },
    {
     "name": "stdout",
     "output_type": "stream",
     "text": [
      "0 1 (16, 431)\n"
     ]
    },
    {
     "name": "stderr",
     "output_type": "stream",
     "text": [
      "/home/eugenio/anaconda3/envs/Tf/lib/python3.8/site-packages/xgboost/data.py:262: FutureWarning: pandas.Int64Index is deprecated and will be removed from pandas in a future version. Use pandas.Index with the appropriate dtype instead.\n",
      "  elif isinstance(data.columns, (pd.Int64Index, pd.RangeIndex)):\n"
     ]
    },
    {
     "name": "stdout",
     "output_type": "stream",
     "text": [
      "0 2 (16, 434)\n"
     ]
    },
    {
     "name": "stderr",
     "output_type": "stream",
     "text": [
      "/home/eugenio/anaconda3/envs/Tf/lib/python3.8/site-packages/xgboost/data.py:262: FutureWarning: pandas.Int64Index is deprecated and will be removed from pandas in a future version. Use pandas.Index with the appropriate dtype instead.\n",
      "  elif isinstance(data.columns, (pd.Int64Index, pd.RangeIndex)):\n"
     ]
    },
    {
     "name": "stdout",
     "output_type": "stream",
     "text": [
      "0 3 (16, 434)\n"
     ]
    },
    {
     "name": "stderr",
     "output_type": "stream",
     "text": [
      "/home/eugenio/anaconda3/envs/Tf/lib/python3.8/site-packages/xgboost/data.py:262: FutureWarning: pandas.Int64Index is deprecated and will be removed from pandas in a future version. Use pandas.Index with the appropriate dtype instead.\n",
      "  elif isinstance(data.columns, (pd.Int64Index, pd.RangeIndex)):\n"
     ]
    },
    {
     "name": "stdout",
     "output_type": "stream",
     "text": [
      "0 4 (16, 436)\n"
     ]
    },
    {
     "name": "stderr",
     "output_type": "stream",
     "text": [
      "/home/eugenio/anaconda3/envs/Tf/lib/python3.8/site-packages/xgboost/data.py:262: FutureWarning: pandas.Int64Index is deprecated and will be removed from pandas in a future version. Use pandas.Index with the appropriate dtype instead.\n",
      "  elif isinstance(data.columns, (pd.Int64Index, pd.RangeIndex)):\n"
     ]
    },
    {
     "name": "stdout",
     "output_type": "stream",
     "text": [
      "0 5 (16, 433)\n"
     ]
    },
    {
     "name": "stderr",
     "output_type": "stream",
     "text": [
      "/home/eugenio/anaconda3/envs/Tf/lib/python3.8/site-packages/xgboost/data.py:262: FutureWarning: pandas.Int64Index is deprecated and will be removed from pandas in a future version. Use pandas.Index with the appropriate dtype instead.\n",
      "  elif isinstance(data.columns, (pd.Int64Index, pd.RangeIndex)):\n"
     ]
    },
    {
     "name": "stdout",
     "output_type": "stream",
     "text": [
      "0 6 (16, 432)\n"
     ]
    },
    {
     "name": "stderr",
     "output_type": "stream",
     "text": [
      "/home/eugenio/anaconda3/envs/Tf/lib/python3.8/site-packages/xgboost/data.py:262: FutureWarning: pandas.Int64Index is deprecated and will be removed from pandas in a future version. Use pandas.Index with the appropriate dtype instead.\n",
      "  elif isinstance(data.columns, (pd.Int64Index, pd.RangeIndex)):\n"
     ]
    },
    {
     "name": "stdout",
     "output_type": "stream",
     "text": [
      "0 7 (16, 432)\n"
     ]
    },
    {
     "name": "stderr",
     "output_type": "stream",
     "text": [
      "/home/eugenio/anaconda3/envs/Tf/lib/python3.8/site-packages/xgboost/data.py:262: FutureWarning: pandas.Int64Index is deprecated and will be removed from pandas in a future version. Use pandas.Index with the appropriate dtype instead.\n",
      "  elif isinstance(data.columns, (pd.Int64Index, pd.RangeIndex)):\n"
     ]
    },
    {
     "name": "stdout",
     "output_type": "stream",
     "text": [
      "0 8 (16, 434)\n"
     ]
    },
    {
     "name": "stderr",
     "output_type": "stream",
     "text": [
      "/home/eugenio/anaconda3/envs/Tf/lib/python3.8/site-packages/xgboost/data.py:262: FutureWarning: pandas.Int64Index is deprecated and will be removed from pandas in a future version. Use pandas.Index with the appropriate dtype instead.\n",
      "  elif isinstance(data.columns, (pd.Int64Index, pd.RangeIndex)):\n"
     ]
    },
    {
     "name": "stdout",
     "output_type": "stream",
     "text": [
      "0 9 (16, 430)\n"
     ]
    },
    {
     "name": "stderr",
     "output_type": "stream",
     "text": [
      "/home/eugenio/anaconda3/envs/Tf/lib/python3.8/site-packages/xgboost/data.py:262: FutureWarning: pandas.Int64Index is deprecated and will be removed from pandas in a future version. Use pandas.Index with the appropriate dtype instead.\n",
      "  elif isinstance(data.columns, (pd.Int64Index, pd.RangeIndex)):\n"
     ]
    },
    {
     "name": "stdout",
     "output_type": "stream",
     "text": [
      "1 0 (40, 438)\n"
     ]
    },
    {
     "name": "stderr",
     "output_type": "stream",
     "text": [
      "/home/eugenio/anaconda3/envs/Tf/lib/python3.8/site-packages/xgboost/data.py:262: FutureWarning: pandas.Int64Index is deprecated and will be removed from pandas in a future version. Use pandas.Index with the appropriate dtype instead.\n",
      "  elif isinstance(data.columns, (pd.Int64Index, pd.RangeIndex)):\n"
     ]
    },
    {
     "name": "stdout",
     "output_type": "stream",
     "text": [
      "1 1 (40, 435)\n"
     ]
    },
    {
     "name": "stderr",
     "output_type": "stream",
     "text": [
      "/home/eugenio/anaconda3/envs/Tf/lib/python3.8/site-packages/xgboost/data.py:262: FutureWarning: pandas.Int64Index is deprecated and will be removed from pandas in a future version. Use pandas.Index with the appropriate dtype instead.\n",
      "  elif isinstance(data.columns, (pd.Int64Index, pd.RangeIndex)):\n"
     ]
    },
    {
     "name": "stdout",
     "output_type": "stream",
     "text": [
      "1 2 (40, 435)\n"
     ]
    },
    {
     "name": "stderr",
     "output_type": "stream",
     "text": [
      "/home/eugenio/anaconda3/envs/Tf/lib/python3.8/site-packages/xgboost/data.py:262: FutureWarning: pandas.Int64Index is deprecated and will be removed from pandas in a future version. Use pandas.Index with the appropriate dtype instead.\n",
      "  elif isinstance(data.columns, (pd.Int64Index, pd.RangeIndex)):\n"
     ]
    },
    {
     "name": "stdout",
     "output_type": "stream",
     "text": [
      "1 3 (40, 439)\n"
     ]
    },
    {
     "name": "stderr",
     "output_type": "stream",
     "text": [
      "/home/eugenio/anaconda3/envs/Tf/lib/python3.8/site-packages/xgboost/data.py:262: FutureWarning: pandas.Int64Index is deprecated and will be removed from pandas in a future version. Use pandas.Index with the appropriate dtype instead.\n",
      "  elif isinstance(data.columns, (pd.Int64Index, pd.RangeIndex)):\n"
     ]
    },
    {
     "name": "stdout",
     "output_type": "stream",
     "text": [
      "1 4 (40, 438)\n"
     ]
    },
    {
     "name": "stderr",
     "output_type": "stream",
     "text": [
      "/home/eugenio/anaconda3/envs/Tf/lib/python3.8/site-packages/xgboost/data.py:262: FutureWarning: pandas.Int64Index is deprecated and will be removed from pandas in a future version. Use pandas.Index with the appropriate dtype instead.\n",
      "  elif isinstance(data.columns, (pd.Int64Index, pd.RangeIndex)):\n"
     ]
    },
    {
     "name": "stdout",
     "output_type": "stream",
     "text": [
      "1 5 (40, 434)\n"
     ]
    },
    {
     "name": "stderr",
     "output_type": "stream",
     "text": [
      "/home/eugenio/anaconda3/envs/Tf/lib/python3.8/site-packages/xgboost/data.py:262: FutureWarning: pandas.Int64Index is deprecated and will be removed from pandas in a future version. Use pandas.Index with the appropriate dtype instead.\n",
      "  elif isinstance(data.columns, (pd.Int64Index, pd.RangeIndex)):\n"
     ]
    },
    {
     "name": "stdout",
     "output_type": "stream",
     "text": [
      "1 6 (40, 437)\n"
     ]
    },
    {
     "name": "stderr",
     "output_type": "stream",
     "text": [
      "/home/eugenio/anaconda3/envs/Tf/lib/python3.8/site-packages/xgboost/data.py:262: FutureWarning: pandas.Int64Index is deprecated and will be removed from pandas in a future version. Use pandas.Index with the appropriate dtype instead.\n",
      "  elif isinstance(data.columns, (pd.Int64Index, pd.RangeIndex)):\n"
     ]
    },
    {
     "name": "stdout",
     "output_type": "stream",
     "text": [
      "1 7 (40, 435)\n"
     ]
    },
    {
     "name": "stderr",
     "output_type": "stream",
     "text": [
      "/home/eugenio/anaconda3/envs/Tf/lib/python3.8/site-packages/xgboost/data.py:262: FutureWarning: pandas.Int64Index is deprecated and will be removed from pandas in a future version. Use pandas.Index with the appropriate dtype instead.\n",
      "  elif isinstance(data.columns, (pd.Int64Index, pd.RangeIndex)):\n"
     ]
    },
    {
     "name": "stdout",
     "output_type": "stream",
     "text": [
      "1 8 (40, 436)\n"
     ]
    },
    {
     "name": "stderr",
     "output_type": "stream",
     "text": [
      "/home/eugenio/anaconda3/envs/Tf/lib/python3.8/site-packages/xgboost/data.py:262: FutureWarning: pandas.Int64Index is deprecated and will be removed from pandas in a future version. Use pandas.Index with the appropriate dtype instead.\n",
      "  elif isinstance(data.columns, (pd.Int64Index, pd.RangeIndex)):\n"
     ]
    },
    {
     "name": "stdout",
     "output_type": "stream",
     "text": [
      "1 9 (40, 436)\n"
     ]
    },
    {
     "name": "stderr",
     "output_type": "stream",
     "text": [
      "/home/eugenio/anaconda3/envs/Tf/lib/python3.8/site-packages/xgboost/data.py:262: FutureWarning: pandas.Int64Index is deprecated and will be removed from pandas in a future version. Use pandas.Index with the appropriate dtype instead.\n",
      "  elif isinstance(data.columns, (pd.Int64Index, pd.RangeIndex)):\n"
     ]
    },
    {
     "name": "stdout",
     "output_type": "stream",
     "text": [
      "2 0 (80, 438)\n"
     ]
    },
    {
     "name": "stderr",
     "output_type": "stream",
     "text": [
      "/home/eugenio/anaconda3/envs/Tf/lib/python3.8/site-packages/xgboost/data.py:262: FutureWarning: pandas.Int64Index is deprecated and will be removed from pandas in a future version. Use pandas.Index with the appropriate dtype instead.\n",
      "  elif isinstance(data.columns, (pd.Int64Index, pd.RangeIndex)):\n"
     ]
    },
    {
     "name": "stdout",
     "output_type": "stream",
     "text": [
      "2 1 (80, 437)\n"
     ]
    },
    {
     "name": "stderr",
     "output_type": "stream",
     "text": [
      "/home/eugenio/anaconda3/envs/Tf/lib/python3.8/site-packages/xgboost/data.py:262: FutureWarning: pandas.Int64Index is deprecated and will be removed from pandas in a future version. Use pandas.Index with the appropriate dtype instead.\n",
      "  elif isinstance(data.columns, (pd.Int64Index, pd.RangeIndex)):\n"
     ]
    },
    {
     "name": "stdout",
     "output_type": "stream",
     "text": [
      "2 2 (80, 437)\n"
     ]
    },
    {
     "name": "stderr",
     "output_type": "stream",
     "text": [
      "/home/eugenio/anaconda3/envs/Tf/lib/python3.8/site-packages/xgboost/data.py:262: FutureWarning: pandas.Int64Index is deprecated and will be removed from pandas in a future version. Use pandas.Index with the appropriate dtype instead.\n",
      "  elif isinstance(data.columns, (pd.Int64Index, pd.RangeIndex)):\n"
     ]
    },
    {
     "name": "stdout",
     "output_type": "stream",
     "text": [
      "2 3 (80, 437)\n"
     ]
    },
    {
     "name": "stderr",
     "output_type": "stream",
     "text": [
      "/home/eugenio/anaconda3/envs/Tf/lib/python3.8/site-packages/xgboost/data.py:262: FutureWarning: pandas.Int64Index is deprecated and will be removed from pandas in a future version. Use pandas.Index with the appropriate dtype instead.\n",
      "  elif isinstance(data.columns, (pd.Int64Index, pd.RangeIndex)):\n"
     ]
    },
    {
     "name": "stdout",
     "output_type": "stream",
     "text": [
      "2 4 (80, 436)\n"
     ]
    },
    {
     "name": "stderr",
     "output_type": "stream",
     "text": [
      "/home/eugenio/anaconda3/envs/Tf/lib/python3.8/site-packages/xgboost/data.py:262: FutureWarning: pandas.Int64Index is deprecated and will be removed from pandas in a future version. Use pandas.Index with the appropriate dtype instead.\n",
      "  elif isinstance(data.columns, (pd.Int64Index, pd.RangeIndex)):\n"
     ]
    },
    {
     "name": "stdout",
     "output_type": "stream",
     "text": [
      "2 5 (80, 436)\n"
     ]
    },
    {
     "name": "stderr",
     "output_type": "stream",
     "text": [
      "/home/eugenio/anaconda3/envs/Tf/lib/python3.8/site-packages/xgboost/data.py:262: FutureWarning: pandas.Int64Index is deprecated and will be removed from pandas in a future version. Use pandas.Index with the appropriate dtype instead.\n",
      "  elif isinstance(data.columns, (pd.Int64Index, pd.RangeIndex)):\n"
     ]
    },
    {
     "name": "stdout",
     "output_type": "stream",
     "text": [
      "2 6 (80, 439)\n"
     ]
    },
    {
     "name": "stderr",
     "output_type": "stream",
     "text": [
      "/home/eugenio/anaconda3/envs/Tf/lib/python3.8/site-packages/xgboost/data.py:262: FutureWarning: pandas.Int64Index is deprecated and will be removed from pandas in a future version. Use pandas.Index with the appropriate dtype instead.\n",
      "  elif isinstance(data.columns, (pd.Int64Index, pd.RangeIndex)):\n"
     ]
    },
    {
     "name": "stdout",
     "output_type": "stream",
     "text": [
      "2 7 (80, 439)\n"
     ]
    },
    {
     "name": "stderr",
     "output_type": "stream",
     "text": [
      "/home/eugenio/anaconda3/envs/Tf/lib/python3.8/site-packages/xgboost/data.py:262: FutureWarning: pandas.Int64Index is deprecated and will be removed from pandas in a future version. Use pandas.Index with the appropriate dtype instead.\n",
      "  elif isinstance(data.columns, (pd.Int64Index, pd.RangeIndex)):\n"
     ]
    },
    {
     "name": "stdout",
     "output_type": "stream",
     "text": [
      "2 8 (80, 437)\n"
     ]
    },
    {
     "name": "stderr",
     "output_type": "stream",
     "text": [
      "/home/eugenio/anaconda3/envs/Tf/lib/python3.8/site-packages/xgboost/data.py:262: FutureWarning: pandas.Int64Index is deprecated and will be removed from pandas in a future version. Use pandas.Index with the appropriate dtype instead.\n",
      "  elif isinstance(data.columns, (pd.Int64Index, pd.RangeIndex)):\n"
     ]
    },
    {
     "name": "stdout",
     "output_type": "stream",
     "text": [
      "2 9 (80, 436)\n"
     ]
    },
    {
     "name": "stderr",
     "output_type": "stream",
     "text": [
      "/home/eugenio/anaconda3/envs/Tf/lib/python3.8/site-packages/xgboost/data.py:262: FutureWarning: pandas.Int64Index is deprecated and will be removed from pandas in a future version. Use pandas.Index with the appropriate dtype instead.\n",
      "  elif isinstance(data.columns, (pd.Int64Index, pd.RangeIndex)):\n"
     ]
    },
    {
     "name": "stdout",
     "output_type": "stream",
     "text": [
      "3 0 (120, 437)\n"
     ]
    },
    {
     "name": "stderr",
     "output_type": "stream",
     "text": [
      "/home/eugenio/anaconda3/envs/Tf/lib/python3.8/site-packages/xgboost/data.py:262: FutureWarning: pandas.Int64Index is deprecated and will be removed from pandas in a future version. Use pandas.Index with the appropriate dtype instead.\n",
      "  elif isinstance(data.columns, (pd.Int64Index, pd.RangeIndex)):\n"
     ]
    },
    {
     "name": "stdout",
     "output_type": "stream",
     "text": [
      "3 1 (120, 439)\n"
     ]
    },
    {
     "name": "stderr",
     "output_type": "stream",
     "text": [
      "/home/eugenio/anaconda3/envs/Tf/lib/python3.8/site-packages/xgboost/data.py:262: FutureWarning: pandas.Int64Index is deprecated and will be removed from pandas in a future version. Use pandas.Index with the appropriate dtype instead.\n",
      "  elif isinstance(data.columns, (pd.Int64Index, pd.RangeIndex)):\n"
     ]
    },
    {
     "name": "stdout",
     "output_type": "stream",
     "text": [
      "3 2 (120, 438)\n"
     ]
    },
    {
     "name": "stderr",
     "output_type": "stream",
     "text": [
      "/home/eugenio/anaconda3/envs/Tf/lib/python3.8/site-packages/xgboost/data.py:262: FutureWarning: pandas.Int64Index is deprecated and will be removed from pandas in a future version. Use pandas.Index with the appropriate dtype instead.\n",
      "  elif isinstance(data.columns, (pd.Int64Index, pd.RangeIndex)):\n"
     ]
    },
    {
     "name": "stdout",
     "output_type": "stream",
     "text": [
      "3 3 (120, 437)\n"
     ]
    },
    {
     "name": "stderr",
     "output_type": "stream",
     "text": [
      "/home/eugenio/anaconda3/envs/Tf/lib/python3.8/site-packages/xgboost/data.py:262: FutureWarning: pandas.Int64Index is deprecated and will be removed from pandas in a future version. Use pandas.Index with the appropriate dtype instead.\n",
      "  elif isinstance(data.columns, (pd.Int64Index, pd.RangeIndex)):\n"
     ]
    },
    {
     "name": "stdout",
     "output_type": "stream",
     "text": [
      "3 4 (120, 439)\n"
     ]
    },
    {
     "name": "stderr",
     "output_type": "stream",
     "text": [
      "/home/eugenio/anaconda3/envs/Tf/lib/python3.8/site-packages/xgboost/data.py:262: FutureWarning: pandas.Int64Index is deprecated and will be removed from pandas in a future version. Use pandas.Index with the appropriate dtype instead.\n",
      "  elif isinstance(data.columns, (pd.Int64Index, pd.RangeIndex)):\n"
     ]
    },
    {
     "name": "stdout",
     "output_type": "stream",
     "text": [
      "3 5 (120, 438)\n"
     ]
    },
    {
     "name": "stderr",
     "output_type": "stream",
     "text": [
      "/home/eugenio/anaconda3/envs/Tf/lib/python3.8/site-packages/xgboost/data.py:262: FutureWarning: pandas.Int64Index is deprecated and will be removed from pandas in a future version. Use pandas.Index with the appropriate dtype instead.\n",
      "  elif isinstance(data.columns, (pd.Int64Index, pd.RangeIndex)):\n"
     ]
    },
    {
     "name": "stdout",
     "output_type": "stream",
     "text": [
      "3 6 (120, 440)\n"
     ]
    },
    {
     "name": "stderr",
     "output_type": "stream",
     "text": [
      "/home/eugenio/anaconda3/envs/Tf/lib/python3.8/site-packages/xgboost/data.py:262: FutureWarning: pandas.Int64Index is deprecated and will be removed from pandas in a future version. Use pandas.Index with the appropriate dtype instead.\n",
      "  elif isinstance(data.columns, (pd.Int64Index, pd.RangeIndex)):\n"
     ]
    },
    {
     "name": "stdout",
     "output_type": "stream",
     "text": [
      "3 7 (120, 438)\n"
     ]
    },
    {
     "name": "stderr",
     "output_type": "stream",
     "text": [
      "/home/eugenio/anaconda3/envs/Tf/lib/python3.8/site-packages/xgboost/data.py:262: FutureWarning: pandas.Int64Index is deprecated and will be removed from pandas in a future version. Use pandas.Index with the appropriate dtype instead.\n",
      "  elif isinstance(data.columns, (pd.Int64Index, pd.RangeIndex)):\n"
     ]
    },
    {
     "name": "stdout",
     "output_type": "stream",
     "text": [
      "3 8 (120, 438)\n"
     ]
    },
    {
     "name": "stderr",
     "output_type": "stream",
     "text": [
      "/home/eugenio/anaconda3/envs/Tf/lib/python3.8/site-packages/xgboost/data.py:262: FutureWarning: pandas.Int64Index is deprecated and will be removed from pandas in a future version. Use pandas.Index with the appropriate dtype instead.\n",
      "  elif isinstance(data.columns, (pd.Int64Index, pd.RangeIndex)):\n"
     ]
    },
    {
     "name": "stdout",
     "output_type": "stream",
     "text": [
      "3 9 (120, 439)\n"
     ]
    },
    {
     "name": "stderr",
     "output_type": "stream",
     "text": [
      "/home/eugenio/anaconda3/envs/Tf/lib/python3.8/site-packages/xgboost/data.py:262: FutureWarning: pandas.Int64Index is deprecated and will be removed from pandas in a future version. Use pandas.Index with the appropriate dtype instead.\n",
      "  elif isinstance(data.columns, (pd.Int64Index, pd.RangeIndex)):\n"
     ]
    },
    {
     "name": "stdout",
     "output_type": "stream",
     "text": [
      "4 0 (160, 439)\n"
     ]
    },
    {
     "name": "stderr",
     "output_type": "stream",
     "text": [
      "/home/eugenio/anaconda3/envs/Tf/lib/python3.8/site-packages/xgboost/data.py:262: FutureWarning: pandas.Int64Index is deprecated and will be removed from pandas in a future version. Use pandas.Index with the appropriate dtype instead.\n",
      "  elif isinstance(data.columns, (pd.Int64Index, pd.RangeIndex)):\n"
     ]
    },
    {
     "name": "stdout",
     "output_type": "stream",
     "text": [
      "4 1 (160, 439)\n"
     ]
    },
    {
     "name": "stderr",
     "output_type": "stream",
     "text": [
      "/home/eugenio/anaconda3/envs/Tf/lib/python3.8/site-packages/xgboost/data.py:262: FutureWarning: pandas.Int64Index is deprecated and will be removed from pandas in a future version. Use pandas.Index with the appropriate dtype instead.\n",
      "  elif isinstance(data.columns, (pd.Int64Index, pd.RangeIndex)):\n"
     ]
    },
    {
     "name": "stdout",
     "output_type": "stream",
     "text": [
      "4 2 (160, 438)\n"
     ]
    },
    {
     "name": "stderr",
     "output_type": "stream",
     "text": [
      "/home/eugenio/anaconda3/envs/Tf/lib/python3.8/site-packages/xgboost/data.py:262: FutureWarning: pandas.Int64Index is deprecated and will be removed from pandas in a future version. Use pandas.Index with the appropriate dtype instead.\n",
      "  elif isinstance(data.columns, (pd.Int64Index, pd.RangeIndex)):\n"
     ]
    },
    {
     "name": "stdout",
     "output_type": "stream",
     "text": [
      "4 3 (160, 437)\n"
     ]
    },
    {
     "name": "stderr",
     "output_type": "stream",
     "text": [
      "/home/eugenio/anaconda3/envs/Tf/lib/python3.8/site-packages/xgboost/data.py:262: FutureWarning: pandas.Int64Index is deprecated and will be removed from pandas in a future version. Use pandas.Index with the appropriate dtype instead.\n",
      "  elif isinstance(data.columns, (pd.Int64Index, pd.RangeIndex)):\n"
     ]
    },
    {
     "name": "stdout",
     "output_type": "stream",
     "text": [
      "4 4 (160, 439)\n"
     ]
    },
    {
     "name": "stderr",
     "output_type": "stream",
     "text": [
      "/home/eugenio/anaconda3/envs/Tf/lib/python3.8/site-packages/xgboost/data.py:262: FutureWarning: pandas.Int64Index is deprecated and will be removed from pandas in a future version. Use pandas.Index with the appropriate dtype instead.\n",
      "  elif isinstance(data.columns, (pd.Int64Index, pd.RangeIndex)):\n"
     ]
    },
    {
     "name": "stdout",
     "output_type": "stream",
     "text": [
      "4 5 (160, 438)\n"
     ]
    },
    {
     "name": "stderr",
     "output_type": "stream",
     "text": [
      "/home/eugenio/anaconda3/envs/Tf/lib/python3.8/site-packages/xgboost/data.py:262: FutureWarning: pandas.Int64Index is deprecated and will be removed from pandas in a future version. Use pandas.Index with the appropriate dtype instead.\n",
      "  elif isinstance(data.columns, (pd.Int64Index, pd.RangeIndex)):\n"
     ]
    },
    {
     "name": "stdout",
     "output_type": "stream",
     "text": [
      "4 6 (160, 439)\n"
     ]
    },
    {
     "name": "stderr",
     "output_type": "stream",
     "text": [
      "/home/eugenio/anaconda3/envs/Tf/lib/python3.8/site-packages/xgboost/data.py:262: FutureWarning: pandas.Int64Index is deprecated and will be removed from pandas in a future version. Use pandas.Index with the appropriate dtype instead.\n",
      "  elif isinstance(data.columns, (pd.Int64Index, pd.RangeIndex)):\n"
     ]
    },
    {
     "name": "stdout",
     "output_type": "stream",
     "text": [
      "4 7 (160, 438)\n"
     ]
    },
    {
     "name": "stderr",
     "output_type": "stream",
     "text": [
      "/home/eugenio/anaconda3/envs/Tf/lib/python3.8/site-packages/xgboost/data.py:262: FutureWarning: pandas.Int64Index is deprecated and will be removed from pandas in a future version. Use pandas.Index with the appropriate dtype instead.\n",
      "  elif isinstance(data.columns, (pd.Int64Index, pd.RangeIndex)):\n"
     ]
    },
    {
     "name": "stdout",
     "output_type": "stream",
     "text": [
      "4 8 (160, 438)\n"
     ]
    },
    {
     "name": "stderr",
     "output_type": "stream",
     "text": [
      "/home/eugenio/anaconda3/envs/Tf/lib/python3.8/site-packages/xgboost/data.py:262: FutureWarning: pandas.Int64Index is deprecated and will be removed from pandas in a future version. Use pandas.Index with the appropriate dtype instead.\n",
      "  elif isinstance(data.columns, (pd.Int64Index, pd.RangeIndex)):\n"
     ]
    },
    {
     "name": "stdout",
     "output_type": "stream",
     "text": [
      "4 9 (160, 438)\n"
     ]
    },
    {
     "name": "stderr",
     "output_type": "stream",
     "text": [
      "/home/eugenio/anaconda3/envs/Tf/lib/python3.8/site-packages/xgboost/data.py:262: FutureWarning: pandas.Int64Index is deprecated and will be removed from pandas in a future version. Use pandas.Index with the appropriate dtype instead.\n",
      "  elif isinstance(data.columns, (pd.Int64Index, pd.RangeIndex)):\n"
     ]
    },
    {
     "name": "stdout",
     "output_type": "stream",
     "text": [
      "5 0 (200, 439)\n"
     ]
    },
    {
     "name": "stderr",
     "output_type": "stream",
     "text": [
      "/home/eugenio/anaconda3/envs/Tf/lib/python3.8/site-packages/xgboost/data.py:262: FutureWarning: pandas.Int64Index is deprecated and will be removed from pandas in a future version. Use pandas.Index with the appropriate dtype instead.\n",
      "  elif isinstance(data.columns, (pd.Int64Index, pd.RangeIndex)):\n"
     ]
    },
    {
     "name": "stdout",
     "output_type": "stream",
     "text": [
      "5 1 (200, 440)\n"
     ]
    },
    {
     "name": "stderr",
     "output_type": "stream",
     "text": [
      "/home/eugenio/anaconda3/envs/Tf/lib/python3.8/site-packages/xgboost/data.py:262: FutureWarning: pandas.Int64Index is deprecated and will be removed from pandas in a future version. Use pandas.Index with the appropriate dtype instead.\n",
      "  elif isinstance(data.columns, (pd.Int64Index, pd.RangeIndex)):\n"
     ]
    },
    {
     "name": "stdout",
     "output_type": "stream",
     "text": [
      "5 2 (200, 439)\n"
     ]
    },
    {
     "name": "stderr",
     "output_type": "stream",
     "text": [
      "/home/eugenio/anaconda3/envs/Tf/lib/python3.8/site-packages/xgboost/data.py:262: FutureWarning: pandas.Int64Index is deprecated and will be removed from pandas in a future version. Use pandas.Index with the appropriate dtype instead.\n",
      "  elif isinstance(data.columns, (pd.Int64Index, pd.RangeIndex)):\n"
     ]
    },
    {
     "name": "stdout",
     "output_type": "stream",
     "text": [
      "5 3 (200, 438)\n"
     ]
    },
    {
     "name": "stderr",
     "output_type": "stream",
     "text": [
      "/home/eugenio/anaconda3/envs/Tf/lib/python3.8/site-packages/xgboost/data.py:262: FutureWarning: pandas.Int64Index is deprecated and will be removed from pandas in a future version. Use pandas.Index with the appropriate dtype instead.\n",
      "  elif isinstance(data.columns, (pd.Int64Index, pd.RangeIndex)):\n"
     ]
    },
    {
     "name": "stdout",
     "output_type": "stream",
     "text": [
      "5 4 (200, 439)\n"
     ]
    },
    {
     "name": "stderr",
     "output_type": "stream",
     "text": [
      "/home/eugenio/anaconda3/envs/Tf/lib/python3.8/site-packages/xgboost/data.py:262: FutureWarning: pandas.Int64Index is deprecated and will be removed from pandas in a future version. Use pandas.Index with the appropriate dtype instead.\n",
      "  elif isinstance(data.columns, (pd.Int64Index, pd.RangeIndex)):\n"
     ]
    },
    {
     "name": "stdout",
     "output_type": "stream",
     "text": [
      "5 5 (200, 440)\n"
     ]
    },
    {
     "name": "stderr",
     "output_type": "stream",
     "text": [
      "/home/eugenio/anaconda3/envs/Tf/lib/python3.8/site-packages/xgboost/data.py:262: FutureWarning: pandas.Int64Index is deprecated and will be removed from pandas in a future version. Use pandas.Index with the appropriate dtype instead.\n",
      "  elif isinstance(data.columns, (pd.Int64Index, pd.RangeIndex)):\n"
     ]
    },
    {
     "name": "stdout",
     "output_type": "stream",
     "text": [
      "5 6 (200, 440)\n"
     ]
    },
    {
     "name": "stderr",
     "output_type": "stream",
     "text": [
      "/home/eugenio/anaconda3/envs/Tf/lib/python3.8/site-packages/xgboost/data.py:262: FutureWarning: pandas.Int64Index is deprecated and will be removed from pandas in a future version. Use pandas.Index with the appropriate dtype instead.\n",
      "  elif isinstance(data.columns, (pd.Int64Index, pd.RangeIndex)):\n"
     ]
    },
    {
     "name": "stdout",
     "output_type": "stream",
     "text": [
      "5 7 (200, 439)\n"
     ]
    },
    {
     "name": "stderr",
     "output_type": "stream",
     "text": [
      "/home/eugenio/anaconda3/envs/Tf/lib/python3.8/site-packages/xgboost/data.py:262: FutureWarning: pandas.Int64Index is deprecated and will be removed from pandas in a future version. Use pandas.Index with the appropriate dtype instead.\n",
      "  elif isinstance(data.columns, (pd.Int64Index, pd.RangeIndex)):\n"
     ]
    },
    {
     "name": "stdout",
     "output_type": "stream",
     "text": [
      "5 8 (200, 438)\n"
     ]
    },
    {
     "name": "stderr",
     "output_type": "stream",
     "text": [
      "/home/eugenio/anaconda3/envs/Tf/lib/python3.8/site-packages/xgboost/data.py:262: FutureWarning: pandas.Int64Index is deprecated and will be removed from pandas in a future version. Use pandas.Index with the appropriate dtype instead.\n",
      "  elif isinstance(data.columns, (pd.Int64Index, pd.RangeIndex)):\n"
     ]
    },
    {
     "name": "stdout",
     "output_type": "stream",
     "text": [
      "5 9 (200, 440)\n"
     ]
    },
    {
     "name": "stderr",
     "output_type": "stream",
     "text": [
      "/home/eugenio/anaconda3/envs/Tf/lib/python3.8/site-packages/xgboost/data.py:262: FutureWarning: pandas.Int64Index is deprecated and will be removed from pandas in a future version. Use pandas.Index with the appropriate dtype instead.\n",
      "  elif isinstance(data.columns, (pd.Int64Index, pd.RangeIndex)):\n"
     ]
    },
    {
     "name": "stdout",
     "output_type": "stream",
     "text": [
      "6 0 (240, 438)\n"
     ]
    },
    {
     "name": "stderr",
     "output_type": "stream",
     "text": [
      "/home/eugenio/anaconda3/envs/Tf/lib/python3.8/site-packages/xgboost/data.py:262: FutureWarning: pandas.Int64Index is deprecated and will be removed from pandas in a future version. Use pandas.Index with the appropriate dtype instead.\n",
      "  elif isinstance(data.columns, (pd.Int64Index, pd.RangeIndex)):\n"
     ]
    },
    {
     "name": "stdout",
     "output_type": "stream",
     "text": [
      "6 1 (240, 439)\n"
     ]
    },
    {
     "name": "stderr",
     "output_type": "stream",
     "text": [
      "/home/eugenio/anaconda3/envs/Tf/lib/python3.8/site-packages/xgboost/data.py:262: FutureWarning: pandas.Int64Index is deprecated and will be removed from pandas in a future version. Use pandas.Index with the appropriate dtype instead.\n",
      "  elif isinstance(data.columns, (pd.Int64Index, pd.RangeIndex)):\n"
     ]
    },
    {
     "name": "stdout",
     "output_type": "stream",
     "text": [
      "6 2 (240, 439)\n"
     ]
    },
    {
     "name": "stderr",
     "output_type": "stream",
     "text": [
      "/home/eugenio/anaconda3/envs/Tf/lib/python3.8/site-packages/xgboost/data.py:262: FutureWarning: pandas.Int64Index is deprecated and will be removed from pandas in a future version. Use pandas.Index with the appropriate dtype instead.\n",
      "  elif isinstance(data.columns, (pd.Int64Index, pd.RangeIndex)):\n"
     ]
    },
    {
     "name": "stdout",
     "output_type": "stream",
     "text": [
      "6 3 (240, 439)\n"
     ]
    },
    {
     "name": "stderr",
     "output_type": "stream",
     "text": [
      "/home/eugenio/anaconda3/envs/Tf/lib/python3.8/site-packages/xgboost/data.py:262: FutureWarning: pandas.Int64Index is deprecated and will be removed from pandas in a future version. Use pandas.Index with the appropriate dtype instead.\n",
      "  elif isinstance(data.columns, (pd.Int64Index, pd.RangeIndex)):\n"
     ]
    },
    {
     "name": "stdout",
     "output_type": "stream",
     "text": [
      "6 4 (240, 438)\n"
     ]
    },
    {
     "name": "stderr",
     "output_type": "stream",
     "text": [
      "/home/eugenio/anaconda3/envs/Tf/lib/python3.8/site-packages/xgboost/data.py:262: FutureWarning: pandas.Int64Index is deprecated and will be removed from pandas in a future version. Use pandas.Index with the appropriate dtype instead.\n",
      "  elif isinstance(data.columns, (pd.Int64Index, pd.RangeIndex)):\n"
     ]
    },
    {
     "name": "stdout",
     "output_type": "stream",
     "text": [
      "6 5 (240, 439)\n"
     ]
    },
    {
     "name": "stderr",
     "output_type": "stream",
     "text": [
      "/home/eugenio/anaconda3/envs/Tf/lib/python3.8/site-packages/xgboost/data.py:262: FutureWarning: pandas.Int64Index is deprecated and will be removed from pandas in a future version. Use pandas.Index with the appropriate dtype instead.\n",
      "  elif isinstance(data.columns, (pd.Int64Index, pd.RangeIndex)):\n"
     ]
    },
    {
     "name": "stdout",
     "output_type": "stream",
     "text": [
      "6 6 (240, 438)\n"
     ]
    },
    {
     "name": "stderr",
     "output_type": "stream",
     "text": [
      "/home/eugenio/anaconda3/envs/Tf/lib/python3.8/site-packages/xgboost/data.py:262: FutureWarning: pandas.Int64Index is deprecated and will be removed from pandas in a future version. Use pandas.Index with the appropriate dtype instead.\n",
      "  elif isinstance(data.columns, (pd.Int64Index, pd.RangeIndex)):\n"
     ]
    },
    {
     "name": "stdout",
     "output_type": "stream",
     "text": [
      "6 7 (240, 439)\n"
     ]
    },
    {
     "name": "stderr",
     "output_type": "stream",
     "text": [
      "/home/eugenio/anaconda3/envs/Tf/lib/python3.8/site-packages/xgboost/data.py:262: FutureWarning: pandas.Int64Index is deprecated and will be removed from pandas in a future version. Use pandas.Index with the appropriate dtype instead.\n",
      "  elif isinstance(data.columns, (pd.Int64Index, pd.RangeIndex)):\n"
     ]
    },
    {
     "name": "stdout",
     "output_type": "stream",
     "text": [
      "6 8 (240, 438)\n"
     ]
    },
    {
     "name": "stderr",
     "output_type": "stream",
     "text": [
      "/home/eugenio/anaconda3/envs/Tf/lib/python3.8/site-packages/xgboost/data.py:262: FutureWarning: pandas.Int64Index is deprecated and will be removed from pandas in a future version. Use pandas.Index with the appropriate dtype instead.\n",
      "  elif isinstance(data.columns, (pd.Int64Index, pd.RangeIndex)):\n"
     ]
    },
    {
     "name": "stdout",
     "output_type": "stream",
     "text": [
      "6 9 (240, 438)\n"
     ]
    },
    {
     "name": "stderr",
     "output_type": "stream",
     "text": [
      "/home/eugenio/anaconda3/envs/Tf/lib/python3.8/site-packages/xgboost/data.py:262: FutureWarning: pandas.Int64Index is deprecated and will be removed from pandas in a future version. Use pandas.Index with the appropriate dtype instead.\n",
      "  elif isinstance(data.columns, (pd.Int64Index, pd.RangeIndex)):\n"
     ]
    },
    {
     "name": "stdout",
     "output_type": "stream",
     "text": [
      "7 0 (320, 438)\n"
     ]
    },
    {
     "name": "stderr",
     "output_type": "stream",
     "text": [
      "/home/eugenio/anaconda3/envs/Tf/lib/python3.8/site-packages/xgboost/data.py:262: FutureWarning: pandas.Int64Index is deprecated and will be removed from pandas in a future version. Use pandas.Index with the appropriate dtype instead.\n",
      "  elif isinstance(data.columns, (pd.Int64Index, pd.RangeIndex)):\n"
     ]
    },
    {
     "name": "stdout",
     "output_type": "stream",
     "text": [
      "7 1 (320, 437)\n"
     ]
    },
    {
     "name": "stderr",
     "output_type": "stream",
     "text": [
      "/home/eugenio/anaconda3/envs/Tf/lib/python3.8/site-packages/xgboost/data.py:262: FutureWarning: pandas.Int64Index is deprecated and will be removed from pandas in a future version. Use pandas.Index with the appropriate dtype instead.\n",
      "  elif isinstance(data.columns, (pd.Int64Index, pd.RangeIndex)):\n"
     ]
    },
    {
     "name": "stdout",
     "output_type": "stream",
     "text": [
      "7 2 (320, 438)\n"
     ]
    },
    {
     "name": "stderr",
     "output_type": "stream",
     "text": [
      "/home/eugenio/anaconda3/envs/Tf/lib/python3.8/site-packages/xgboost/data.py:262: FutureWarning: pandas.Int64Index is deprecated and will be removed from pandas in a future version. Use pandas.Index with the appropriate dtype instead.\n",
      "  elif isinstance(data.columns, (pd.Int64Index, pd.RangeIndex)):\n"
     ]
    },
    {
     "name": "stdout",
     "output_type": "stream",
     "text": [
      "7 3 (320, 440)\n"
     ]
    },
    {
     "name": "stderr",
     "output_type": "stream",
     "text": [
      "/home/eugenio/anaconda3/envs/Tf/lib/python3.8/site-packages/xgboost/data.py:262: FutureWarning: pandas.Int64Index is deprecated and will be removed from pandas in a future version. Use pandas.Index with the appropriate dtype instead.\n",
      "  elif isinstance(data.columns, (pd.Int64Index, pd.RangeIndex)):\n"
     ]
    },
    {
     "name": "stdout",
     "output_type": "stream",
     "text": [
      "7 4 (320, 438)\n"
     ]
    },
    {
     "name": "stderr",
     "output_type": "stream",
     "text": [
      "/home/eugenio/anaconda3/envs/Tf/lib/python3.8/site-packages/xgboost/data.py:262: FutureWarning: pandas.Int64Index is deprecated and will be removed from pandas in a future version. Use pandas.Index with the appropriate dtype instead.\n",
      "  elif isinstance(data.columns, (pd.Int64Index, pd.RangeIndex)):\n"
     ]
    },
    {
     "name": "stdout",
     "output_type": "stream",
     "text": [
      "7 5 (320, 439)\n"
     ]
    },
    {
     "name": "stderr",
     "output_type": "stream",
     "text": [
      "/home/eugenio/anaconda3/envs/Tf/lib/python3.8/site-packages/xgboost/data.py:262: FutureWarning: pandas.Int64Index is deprecated and will be removed from pandas in a future version. Use pandas.Index with the appropriate dtype instead.\n",
      "  elif isinstance(data.columns, (pd.Int64Index, pd.RangeIndex)):\n"
     ]
    },
    {
     "name": "stdout",
     "output_type": "stream",
     "text": [
      "7 6 (320, 438)\n"
     ]
    },
    {
     "name": "stderr",
     "output_type": "stream",
     "text": [
      "/home/eugenio/anaconda3/envs/Tf/lib/python3.8/site-packages/xgboost/data.py:262: FutureWarning: pandas.Int64Index is deprecated and will be removed from pandas in a future version. Use pandas.Index with the appropriate dtype instead.\n",
      "  elif isinstance(data.columns, (pd.Int64Index, pd.RangeIndex)):\n"
     ]
    },
    {
     "name": "stdout",
     "output_type": "stream",
     "text": [
      "7 7 (320, 440)\n"
     ]
    },
    {
     "name": "stderr",
     "output_type": "stream",
     "text": [
      "/home/eugenio/anaconda3/envs/Tf/lib/python3.8/site-packages/xgboost/data.py:262: FutureWarning: pandas.Int64Index is deprecated and will be removed from pandas in a future version. Use pandas.Index with the appropriate dtype instead.\n",
      "  elif isinstance(data.columns, (pd.Int64Index, pd.RangeIndex)):\n"
     ]
    },
    {
     "name": "stdout",
     "output_type": "stream",
     "text": [
      "7 8 (320, 439)\n"
     ]
    },
    {
     "name": "stderr",
     "output_type": "stream",
     "text": [
      "/home/eugenio/anaconda3/envs/Tf/lib/python3.8/site-packages/xgboost/data.py:262: FutureWarning: pandas.Int64Index is deprecated and will be removed from pandas in a future version. Use pandas.Index with the appropriate dtype instead.\n",
      "  elif isinstance(data.columns, (pd.Int64Index, pd.RangeIndex)):\n"
     ]
    },
    {
     "name": "stdout",
     "output_type": "stream",
     "text": [
      "7 9 (320, 438)\n"
     ]
    },
    {
     "name": "stderr",
     "output_type": "stream",
     "text": [
      "/home/eugenio/anaconda3/envs/Tf/lib/python3.8/site-packages/xgboost/data.py:262: FutureWarning: pandas.Int64Index is deprecated and will be removed from pandas in a future version. Use pandas.Index with the appropriate dtype instead.\n",
      "  elif isinstance(data.columns, (pd.Int64Index, pd.RangeIndex)):\n"
     ]
    },
    {
     "name": "stdout",
     "output_type": "stream",
     "text": [
      "8 0 (400, 439)\n"
     ]
    },
    {
     "name": "stderr",
     "output_type": "stream",
     "text": [
      "/home/eugenio/anaconda3/envs/Tf/lib/python3.8/site-packages/xgboost/data.py:262: FutureWarning: pandas.Int64Index is deprecated and will be removed from pandas in a future version. Use pandas.Index with the appropriate dtype instead.\n",
      "  elif isinstance(data.columns, (pd.Int64Index, pd.RangeIndex)):\n"
     ]
    },
    {
     "name": "stdout",
     "output_type": "stream",
     "text": [
      "8 1 (400, 439)\n"
     ]
    },
    {
     "name": "stderr",
     "output_type": "stream",
     "text": [
      "/home/eugenio/anaconda3/envs/Tf/lib/python3.8/site-packages/xgboost/data.py:262: FutureWarning: pandas.Int64Index is deprecated and will be removed from pandas in a future version. Use pandas.Index with the appropriate dtype instead.\n",
      "  elif isinstance(data.columns, (pd.Int64Index, pd.RangeIndex)):\n"
     ]
    },
    {
     "name": "stdout",
     "output_type": "stream",
     "text": [
      "8 2 (400, 439)\n"
     ]
    },
    {
     "name": "stderr",
     "output_type": "stream",
     "text": [
      "/home/eugenio/anaconda3/envs/Tf/lib/python3.8/site-packages/xgboost/data.py:262: FutureWarning: pandas.Int64Index is deprecated and will be removed from pandas in a future version. Use pandas.Index with the appropriate dtype instead.\n",
      "  elif isinstance(data.columns, (pd.Int64Index, pd.RangeIndex)):\n"
     ]
    },
    {
     "name": "stdout",
     "output_type": "stream",
     "text": [
      "8 3 (400, 438)\n"
     ]
    },
    {
     "name": "stderr",
     "output_type": "stream",
     "text": [
      "/home/eugenio/anaconda3/envs/Tf/lib/python3.8/site-packages/xgboost/data.py:262: FutureWarning: pandas.Int64Index is deprecated and will be removed from pandas in a future version. Use pandas.Index with the appropriate dtype instead.\n",
      "  elif isinstance(data.columns, (pd.Int64Index, pd.RangeIndex)):\n"
     ]
    },
    {
     "name": "stdout",
     "output_type": "stream",
     "text": [
      "8 4 (400, 439)\n"
     ]
    },
    {
     "name": "stderr",
     "output_type": "stream",
     "text": [
      "/home/eugenio/anaconda3/envs/Tf/lib/python3.8/site-packages/xgboost/data.py:262: FutureWarning: pandas.Int64Index is deprecated and will be removed from pandas in a future version. Use pandas.Index with the appropriate dtype instead.\n",
      "  elif isinstance(data.columns, (pd.Int64Index, pd.RangeIndex)):\n"
     ]
    },
    {
     "name": "stdout",
     "output_type": "stream",
     "text": [
      "8 5 (400, 440)\n"
     ]
    },
    {
     "name": "stderr",
     "output_type": "stream",
     "text": [
      "/home/eugenio/anaconda3/envs/Tf/lib/python3.8/site-packages/xgboost/data.py:262: FutureWarning: pandas.Int64Index is deprecated and will be removed from pandas in a future version. Use pandas.Index with the appropriate dtype instead.\n",
      "  elif isinstance(data.columns, (pd.Int64Index, pd.RangeIndex)):\n"
     ]
    },
    {
     "name": "stdout",
     "output_type": "stream",
     "text": [
      "8 6 (400, 438)\n"
     ]
    },
    {
     "name": "stderr",
     "output_type": "stream",
     "text": [
      "/home/eugenio/anaconda3/envs/Tf/lib/python3.8/site-packages/xgboost/data.py:262: FutureWarning: pandas.Int64Index is deprecated and will be removed from pandas in a future version. Use pandas.Index with the appropriate dtype instead.\n",
      "  elif isinstance(data.columns, (pd.Int64Index, pd.RangeIndex)):\n"
     ]
    },
    {
     "name": "stdout",
     "output_type": "stream",
     "text": [
      "8 7 (400, 439)\n"
     ]
    },
    {
     "name": "stderr",
     "output_type": "stream",
     "text": [
      "/home/eugenio/anaconda3/envs/Tf/lib/python3.8/site-packages/xgboost/data.py:262: FutureWarning: pandas.Int64Index is deprecated and will be removed from pandas in a future version. Use pandas.Index with the appropriate dtype instead.\n",
      "  elif isinstance(data.columns, (pd.Int64Index, pd.RangeIndex)):\n"
     ]
    },
    {
     "name": "stdout",
     "output_type": "stream",
     "text": [
      "8 8 (400, 439)\n"
     ]
    },
    {
     "name": "stderr",
     "output_type": "stream",
     "text": [
      "/home/eugenio/anaconda3/envs/Tf/lib/python3.8/site-packages/xgboost/data.py:262: FutureWarning: pandas.Int64Index is deprecated and will be removed from pandas in a future version. Use pandas.Index with the appropriate dtype instead.\n",
      "  elif isinstance(data.columns, (pd.Int64Index, pd.RangeIndex)):\n"
     ]
    },
    {
     "name": "stdout",
     "output_type": "stream",
     "text": [
      "8 9 (400, 438)\n"
     ]
    },
    {
     "name": "stderr",
     "output_type": "stream",
     "text": [
      "/home/eugenio/anaconda3/envs/Tf/lib/python3.8/site-packages/xgboost/data.py:262: FutureWarning: pandas.Int64Index is deprecated and will be removed from pandas in a future version. Use pandas.Index with the appropriate dtype instead.\n",
      "  elif isinstance(data.columns, (pd.Int64Index, pd.RangeIndex)):\n"
     ]
    }
   ],
   "source": [
    "# reproducibility\n",
    "np.random.seed(12345)\n",
    "tf.random.set_seed(12345)\n",
    "\n",
    "acc_xgb = np.zeros((len(N_samples),N_datasets))\n",
    "\n",
    "for i in range(0, len(N_samples)):\n",
    "\n",
    "    for j in range(0, N_datasets):\n",
    "\n",
    "        start = np.sum(N_samples[:i]*N_datasets) + N_samples[i]*j\n",
    "        end = start + N_samples[i]\n",
    "\n",
    "        N_train = int(perc_train*N_samples[i])\n",
    "\n",
    "        # training set\n",
    "        x_train = x_features[start:start+N_train]\n",
    "        y_train = y[start:start+N_train]\n",
    "\n",
    "        # test set\n",
    "        x_test = x_features[start+N_train:end]\n",
    "        y_test = y[start+N_train:end]\n",
    "\n",
    "        # rescale\n",
    "\n",
    "        # remove train set average value of each feature\n",
    "        xm = np.mean(x_train,axis=0)\n",
    "        x_train = x_train - xm\n",
    "        x_test = x_test - xm\n",
    "\n",
    "        # rescale with the train set standard deviation\n",
    "        xv = np.var(x_train,axis=0)\n",
    "        x_train = x_train/np.sqrt(xv)\n",
    "        x_test = x_test/np.sqrt(xv)\n",
    "        \n",
    "        \n",
    "        # remove columns with NaN or inf        \n",
    "        x_train.replace([np.inf,-np.inf], np.nan, inplace=True)\n",
    "        x_train = x_train.dropna(axis='columns')\n",
    "        \n",
    "        x_test.replace([np.inf,-np.inf], np.nan, inplace=True)\n",
    "        x_test = x_test.dropna(axis='columns')\n",
    "\n",
    "        # define parameters for xgboost\n",
    "        params = {'max_depth':6, 'min_child_weight':1,\n",
    "                'learning_rate':0.3, 'use_label_encoder':False, 'verbosity':0}\n",
    "\n",
    "        # create model\n",
    "        model = XGBClassifier(**params)\n",
    "\n",
    "        # fit model\n",
    "        model.fit(x_train.values, y_train)\n",
    "        print(i,j, np.shape(x_train.values))\n",
    "\n",
    "        # predict labels on test set\n",
    "        y_pred = model.predict(x_test)\n",
    "\n",
    "        # compute accuracy\n",
    "        acc_xgb[i,j] = accuracy_score(y_test, y_pred)\n",
    "\n",
    "\n",
    "# compute mean and standard deviation of accuracy for each dataset size       \n",
    "acc_xgb_mean = acc_xgb.mean(axis=1)\n",
    "acc_xgb_stddev = np.sqrt(acc_xgb.var(axis=1))"
   ]
  },
  {
   "cell_type": "code",
   "execution_count": 17,
   "metadata": {
    "cell_id": "192c5762190b4fe68f313ca592a30f1a",
    "deepnote_cell_height": 101.83332824707031,
    "deepnote_cell_type": "code",
    "tags": []
   },
   "outputs": [
    {
     "name": "stdout",
     "output_type": "stream",
     "text": [
      "accuracy matrix:\n",
      " [[0.75   0.75   0.5    1.     0.75   0.75   1.     0.5    0.5    1.    ]\n",
      " [0.7    1.     0.9    0.9    1.     0.8    0.8    0.9    0.8    0.8   ]\n",
      " [0.9    0.95   0.8    0.85   0.8    0.75   0.8    0.95   0.95   0.6   ]\n",
      " [0.9    0.8667 0.8333 0.7333 0.9667 0.9    0.9    0.9    0.8667 0.9667]\n",
      " [0.925  0.825  0.85   0.925  0.925  0.95   0.875  0.825  0.95   0.875 ]\n",
      " [0.94   0.88   0.86   0.84   0.94   0.82   0.94   0.78   0.88   0.94  ]\n",
      " [0.9167 0.9    0.8833 0.8667 0.8833 0.8667 0.8833 0.9167 0.8667 0.8833]\n",
      " [0.9625 0.8875 0.925  0.9125 0.9375 0.9375 0.9125 0.9125 0.9375 0.8625]\n",
      " [0.9    0.93   0.93   0.87   0.91   0.9    0.94   0.91   0.92   0.91  ]]\n",
      "means:\n",
      " [0.75   0.86   0.835  0.8833 0.8925 0.882  0.8867 0.9188 0.912 ]\n",
      "standard deviations:\n",
      " [0.1936 0.0917 0.105  0.0637 0.0462 0.0547 0.018  0.027  0.0189]\n"
     ]
    }
   ],
   "source": [
    "print('accuracy matrix:\\n', np.round(acc_xgb,4))\n",
    "print('means:\\n', np.round(acc_xgb_mean,4))\n",
    "print('standard deviations:\\n', np.round(acc_xgb_stddev,4))"
   ]
  },
  {
   "cell_type": "markdown",
   "metadata": {
    "cell_id": "00032-dbb5f88b-aff2-46dd-bced-1cabccd64c7b",
    "deepnote_cell_height": 61.83332824707031,
    "deepnote_cell_type": "markdown"
   },
   "source": [
    "### Plot mean and standard deviation of accuracy vs dataset size"
   ]
  },
  {
   "cell_type": "code",
   "execution_count": 18,
   "metadata": {
    "cell_id": "00033-cbb860c2-dc65-481a-b6a6-42ce0d3664a0",
    "deepnote_cell_height": 854.6666870117188,
    "deepnote_cell_type": "code",
    "deepnote_output_heights": [
     272,
     275
    ]
   },
   "outputs": [
    {
     "data": {
      "image/png": "[encoded data removed]",
      "text/plain": [
       "<Figure size 432x288 with 1 Axes>"
      ]
     },
     "metadata": {
      "needs_background": "light"
     },
     "output_type": "display_data"
    },
    {
     "data": {
      "image/png": "[encoded data removed]",
      "text/plain": [
       "<Figure size 432x288 with 1 Axes>"
      ]
     },
     "metadata": {
      "needs_background": "light"
     },
     "output_type": "display_data"
    }
   ],
   "source": [
    "plt.plot(N_samples, acc_xgb_mean, '-o')\n",
    "plt.xlabel('dataset size')\n",
    "plt.ylabel('accuracy mean')\n",
    "plt.title('accuracy ')\n",
    "plt.show()\n",
    "\n",
    "plt.plot(N_samples, acc_xgb_stddev, '-o')\n",
    "plt.xlabel('dataset size')\n",
    "plt.ylabel('standard deviation')\n",
    "plt.title('accuracy ')\n",
    "plt.show()"
   ]
  },
  {
   "cell_type": "markdown",
   "metadata": {
    "cell_id": "86aa27052f1e4826a3f565d9a7488810",
    "deepnote_cell_height": 210.63333129882812,
    "deepnote_cell_type": "markdown",
    "tags": []
   },
   "source": [
    "### Conclusions\n",
    "As can be seen from the plots above, in the limit of small datasets the test accuracy reached by the XGBoost model is significantly higher than the one by the CNN model. In both cases the standard deviation of the accuracy decreases as the dataset size increases."
   ]
  }
 ],
 "metadata": {
  "deepnote": {},
  "deepnote_execution_queue": [],
  "deepnote_notebook_id": "5e85cc7b-3385-44e4-9cb2-363915eb70ff",
  "kernelspec": {
   "display_name": "Python 3 (ipykernel)",
   "language": "python",
   "name": "python3"
  },
  "language_info": {
   "codemirror_mode": {
    "name": "ipython",
    "version": 3
   },
   "file_extension": ".py",
   "mimetype": "text/x-python",
   "name": "python",
   "nbconvert_exporter": "python",
   "pygments_lexer": "ipython3",
   "version": "3.8.13"
  }
 },
 "nbformat": 4,
 "nbformat_minor": 4
}
